{
  "nbformat": 4,
  "nbformat_minor": 0,
  "metadata": {
    "colab": {
      "name": "TF_Process_Regression.ipynb",
      "provenance": [],
      "collapsed_sections": [],
      "toc_visible": true,
      "authorship_tag": "ABX9TyM/ghmjZ65Cw5BpbqkmOdUc",
      "include_colab_link": true
    },
    "kernelspec": {
      "name": "python3",
      "display_name": "Python 3"
    }
  },
  "cells": [
    {
      "cell_type": "markdown",
      "metadata": {
        "id": "view-in-github",
        "colab_type": "text"
      },
      "source": [
        "<a href=\"https://colab.research.google.com/github/morphingdesign/tfExplore/blob/master/TF_Process_Regression.ipynb\" target=\"_parent\"><img src=\"https://colab.research.google.com/assets/colab-badge.svg\" alt=\"Open In Colab\"/></a>"
      ]
    },
    {
      "cell_type": "markdown",
      "metadata": {
        "id": "sOm5gsdNygJG"
      },
      "source": [
        "# Setup"
      ]
    },
    {
      "cell_type": "code",
      "metadata": {
        "id": "h8mGsl_Glbjx"
      },
      "source": [
        "import pandas as pd\r\n",
        "import numpy as np\r\n",
        "import matplotlib.pyplot as plt\r\n",
        "import seaborn as sns\r\n",
        "\r\n",
        "%matplotlib inline"
      ],
      "execution_count": 1,
      "outputs": []
    },
    {
      "cell_type": "code",
      "metadata": {
        "id": "WJ-1afSBlsz8"
      },
      "source": [
        "sns.set_style('whitegrid')"
      ],
      "execution_count": 2,
      "outputs": []
    },
    {
      "cell_type": "markdown",
      "metadata": {
        "id": "HpnDWtnhmGB9"
      },
      "source": [
        "# Read in Data"
      ]
    },
    {
      "cell_type": "markdown",
      "metadata": {
        "id": "cG4sX3pjmJqN"
      },
      "source": [
        "Data is from a Kaggle data set:\r\n",
        "\r\n",
        "https://www.kaggle.com/harlfoxem/housesalesprediction"
      ]
    },
    {
      "cell_type": "code",
      "metadata": {
        "colab": {
          "base_uri": "https://localhost:8080/",
          "height": 224
        },
        "id": "LNt-wr03lvp4",
        "outputId": "991add5f-1764-4115-e298-781865ebcfbf"
      },
      "source": [
        "df = pd.read_csv(\"sample_data/data/kc_house_data.csv\")\r\n",
        "df.head()"
      ],
      "execution_count": 35,
      "outputs": [
        {
          "output_type": "execute_result",
          "data": {
            "text/html": [
              "<div>\n",
              "<style scoped>\n",
              "    .dataframe tbody tr th:only-of-type {\n",
              "        vertical-align: middle;\n",
              "    }\n",
              "\n",
              "    .dataframe tbody tr th {\n",
              "        vertical-align: top;\n",
              "    }\n",
              "\n",
              "    .dataframe thead th {\n",
              "        text-align: right;\n",
              "    }\n",
              "</style>\n",
              "<table border=\"1\" class=\"dataframe\">\n",
              "  <thead>\n",
              "    <tr style=\"text-align: right;\">\n",
              "      <th></th>\n",
              "      <th>id</th>\n",
              "      <th>date</th>\n",
              "      <th>price</th>\n",
              "      <th>bedrooms</th>\n",
              "      <th>bathrooms</th>\n",
              "      <th>sqft_living</th>\n",
              "      <th>sqft_lot</th>\n",
              "      <th>floors</th>\n",
              "      <th>waterfront</th>\n",
              "      <th>view</th>\n",
              "      <th>condition</th>\n",
              "      <th>grade</th>\n",
              "      <th>sqft_above</th>\n",
              "      <th>sqft_basement</th>\n",
              "      <th>yr_built</th>\n",
              "      <th>yr_renovated</th>\n",
              "      <th>zipcode</th>\n",
              "      <th>lat</th>\n",
              "      <th>long</th>\n",
              "      <th>sqft_living15</th>\n",
              "      <th>sqft_lot15</th>\n",
              "    </tr>\n",
              "  </thead>\n",
              "  <tbody>\n",
              "    <tr>\n",
              "      <th>0</th>\n",
              "      <td>7129300520</td>\n",
              "      <td>10/13/2014</td>\n",
              "      <td>221900.0</td>\n",
              "      <td>3</td>\n",
              "      <td>1.00</td>\n",
              "      <td>1180</td>\n",
              "      <td>5650</td>\n",
              "      <td>1.0</td>\n",
              "      <td>0</td>\n",
              "      <td>0</td>\n",
              "      <td>3</td>\n",
              "      <td>7</td>\n",
              "      <td>1180</td>\n",
              "      <td>0</td>\n",
              "      <td>1955</td>\n",
              "      <td>0</td>\n",
              "      <td>98178</td>\n",
              "      <td>47.5112</td>\n",
              "      <td>-122.257</td>\n",
              "      <td>1340</td>\n",
              "      <td>5650</td>\n",
              "    </tr>\n",
              "    <tr>\n",
              "      <th>1</th>\n",
              "      <td>6414100192</td>\n",
              "      <td>12/9/2014</td>\n",
              "      <td>538000.0</td>\n",
              "      <td>3</td>\n",
              "      <td>2.25</td>\n",
              "      <td>2570</td>\n",
              "      <td>7242</td>\n",
              "      <td>2.0</td>\n",
              "      <td>0</td>\n",
              "      <td>0</td>\n",
              "      <td>3</td>\n",
              "      <td>7</td>\n",
              "      <td>2170</td>\n",
              "      <td>400</td>\n",
              "      <td>1951</td>\n",
              "      <td>1991</td>\n",
              "      <td>98125</td>\n",
              "      <td>47.7210</td>\n",
              "      <td>-122.319</td>\n",
              "      <td>1690</td>\n",
              "      <td>7639</td>\n",
              "    </tr>\n",
              "    <tr>\n",
              "      <th>2</th>\n",
              "      <td>5631500400</td>\n",
              "      <td>2/25/2015</td>\n",
              "      <td>180000.0</td>\n",
              "      <td>2</td>\n",
              "      <td>1.00</td>\n",
              "      <td>770</td>\n",
              "      <td>10000</td>\n",
              "      <td>1.0</td>\n",
              "      <td>0</td>\n",
              "      <td>0</td>\n",
              "      <td>3</td>\n",
              "      <td>6</td>\n",
              "      <td>770</td>\n",
              "      <td>0</td>\n",
              "      <td>1933</td>\n",
              "      <td>0</td>\n",
              "      <td>98028</td>\n",
              "      <td>47.7379</td>\n",
              "      <td>-122.233</td>\n",
              "      <td>2720</td>\n",
              "      <td>8062</td>\n",
              "    </tr>\n",
              "    <tr>\n",
              "      <th>3</th>\n",
              "      <td>2487200875</td>\n",
              "      <td>12/9/2014</td>\n",
              "      <td>604000.0</td>\n",
              "      <td>4</td>\n",
              "      <td>3.00</td>\n",
              "      <td>1960</td>\n",
              "      <td>5000</td>\n",
              "      <td>1.0</td>\n",
              "      <td>0</td>\n",
              "      <td>0</td>\n",
              "      <td>5</td>\n",
              "      <td>7</td>\n",
              "      <td>1050</td>\n",
              "      <td>910</td>\n",
              "      <td>1965</td>\n",
              "      <td>0</td>\n",
              "      <td>98136</td>\n",
              "      <td>47.5208</td>\n",
              "      <td>-122.393</td>\n",
              "      <td>1360</td>\n",
              "      <td>5000</td>\n",
              "    </tr>\n",
              "    <tr>\n",
              "      <th>4</th>\n",
              "      <td>1954400510</td>\n",
              "      <td>2/18/2015</td>\n",
              "      <td>510000.0</td>\n",
              "      <td>3</td>\n",
              "      <td>2.00</td>\n",
              "      <td>1680</td>\n",
              "      <td>8080</td>\n",
              "      <td>1.0</td>\n",
              "      <td>0</td>\n",
              "      <td>0</td>\n",
              "      <td>3</td>\n",
              "      <td>8</td>\n",
              "      <td>1680</td>\n",
              "      <td>0</td>\n",
              "      <td>1987</td>\n",
              "      <td>0</td>\n",
              "      <td>98074</td>\n",
              "      <td>47.6168</td>\n",
              "      <td>-122.045</td>\n",
              "      <td>1800</td>\n",
              "      <td>7503</td>\n",
              "    </tr>\n",
              "  </tbody>\n",
              "</table>\n",
              "</div>"
            ],
            "text/plain": [
              "           id        date     price  ...     long  sqft_living15  sqft_lot15\n",
              "0  7129300520  10/13/2014  221900.0  ... -122.257           1340        5650\n",
              "1  6414100192   12/9/2014  538000.0  ... -122.319           1690        7639\n",
              "2  5631500400   2/25/2015  180000.0  ... -122.233           2720        8062\n",
              "3  2487200875   12/9/2014  604000.0  ... -122.393           1360        5000\n",
              "4  1954400510   2/18/2015  510000.0  ... -122.045           1800        7503\n",
              "\n",
              "[5 rows x 21 columns]"
            ]
          },
          "metadata": {
            "tags": []
          },
          "execution_count": 35
        }
      ]
    },
    {
      "cell_type": "code",
      "metadata": {
        "colab": {
          "base_uri": "https://localhost:8080/"
        },
        "id": "lpZFvrBnmBeb",
        "outputId": "1f9aae73-6976-47aa-c07b-383f6a25ef66"
      },
      "source": [
        "df.info()"
      ],
      "execution_count": 36,
      "outputs": [
        {
          "output_type": "stream",
          "text": [
            "<class 'pandas.core.frame.DataFrame'>\n",
            "RangeIndex: 21597 entries, 0 to 21596\n",
            "Data columns (total 21 columns):\n",
            " #   Column         Non-Null Count  Dtype  \n",
            "---  ------         --------------  -----  \n",
            " 0   id             21597 non-null  int64  \n",
            " 1   date           21597 non-null  object \n",
            " 2   price          21597 non-null  float64\n",
            " 3   bedrooms       21597 non-null  int64  \n",
            " 4   bathrooms      21597 non-null  float64\n",
            " 5   sqft_living    21597 non-null  int64  \n",
            " 6   sqft_lot       21597 non-null  int64  \n",
            " 7   floors         21597 non-null  float64\n",
            " 8   waterfront     21597 non-null  int64  \n",
            " 9   view           21597 non-null  int64  \n",
            " 10  condition      21597 non-null  int64  \n",
            " 11  grade          21597 non-null  int64  \n",
            " 12  sqft_above     21597 non-null  int64  \n",
            " 13  sqft_basement  21597 non-null  int64  \n",
            " 14  yr_built       21597 non-null  int64  \n",
            " 15  yr_renovated   21597 non-null  int64  \n",
            " 16  zipcode        21597 non-null  int64  \n",
            " 17  lat            21597 non-null  float64\n",
            " 18  long           21597 non-null  float64\n",
            " 19  sqft_living15  21597 non-null  int64  \n",
            " 20  sqft_lot15     21597 non-null  int64  \n",
            "dtypes: float64(5), int64(15), object(1)\n",
            "memory usage: 3.5+ MB\n"
          ],
          "name": "stdout"
        }
      ]
    },
    {
      "cell_type": "markdown",
      "metadata": {
        "id": "lBlY3T7qmc2k"
      },
      "source": [
        "# EDA"
      ]
    },
    {
      "cell_type": "markdown",
      "metadata": {
        "id": "4fU_shy7nJPv"
      },
      "source": [
        "## Investigate Missing Data"
      ]
    },
    {
      "cell_type": "code",
      "metadata": {
        "colab": {
          "base_uri": "https://localhost:8080/"
        },
        "id": "Ie_z9i1rmgXm",
        "outputId": "aa8ecc8c-0e4f-47f1-89d9-676eaa44bf49"
      },
      "source": [
        "df.isnull().sum()"
      ],
      "execution_count": 37,
      "outputs": [
        {
          "output_type": "execute_result",
          "data": {
            "text/plain": [
              "id               0\n",
              "date             0\n",
              "price            0\n",
              "bedrooms         0\n",
              "bathrooms        0\n",
              "sqft_living      0\n",
              "sqft_lot         0\n",
              "floors           0\n",
              "waterfront       0\n",
              "view             0\n",
              "condition        0\n",
              "grade            0\n",
              "sqft_above       0\n",
              "sqft_basement    0\n",
              "yr_built         0\n",
              "yr_renovated     0\n",
              "zipcode          0\n",
              "lat              0\n",
              "long             0\n",
              "sqft_living15    0\n",
              "sqft_lot15       0\n",
              "dtype: int64"
            ]
          },
          "metadata": {
            "tags": []
          },
          "execution_count": 37
        }
      ]
    },
    {
      "cell_type": "markdown",
      "metadata": {
        "id": "6EijWFIjmjFp"
      },
      "source": [
        "Confirmed; no missing data."
      ]
    },
    {
      "cell_type": "markdown",
      "metadata": {
        "id": "qQSsw1e9nL-j"
      },
      "source": [
        "## Overall Statistics"
      ]
    },
    {
      "cell_type": "code",
      "metadata": {
        "colab": {
          "base_uri": "https://localhost:8080/",
          "height": 669
        },
        "id": "zxjZHYLCnTAx",
        "outputId": "ad7fd568-149c-4647-e7e6-e74dd3abb7f7"
      },
      "source": [
        "df.describe().transpose()"
      ],
      "execution_count": 38,
      "outputs": [
        {
          "output_type": "execute_result",
          "data": {
            "text/html": [
              "<div>\n",
              "<style scoped>\n",
              "    .dataframe tbody tr th:only-of-type {\n",
              "        vertical-align: middle;\n",
              "    }\n",
              "\n",
              "    .dataframe tbody tr th {\n",
              "        vertical-align: top;\n",
              "    }\n",
              "\n",
              "    .dataframe thead th {\n",
              "        text-align: right;\n",
              "    }\n",
              "</style>\n",
              "<table border=\"1\" class=\"dataframe\">\n",
              "  <thead>\n",
              "    <tr style=\"text-align: right;\">\n",
              "      <th></th>\n",
              "      <th>count</th>\n",
              "      <th>mean</th>\n",
              "      <th>std</th>\n",
              "      <th>min</th>\n",
              "      <th>25%</th>\n",
              "      <th>50%</th>\n",
              "      <th>75%</th>\n",
              "      <th>max</th>\n",
              "    </tr>\n",
              "  </thead>\n",
              "  <tbody>\n",
              "    <tr>\n",
              "      <th>id</th>\n",
              "      <td>21597.0</td>\n",
              "      <td>4.580474e+09</td>\n",
              "      <td>2.876736e+09</td>\n",
              "      <td>1.000102e+06</td>\n",
              "      <td>2.123049e+09</td>\n",
              "      <td>3.904930e+09</td>\n",
              "      <td>7.308900e+09</td>\n",
              "      <td>9.900000e+09</td>\n",
              "    </tr>\n",
              "    <tr>\n",
              "      <th>price</th>\n",
              "      <td>21597.0</td>\n",
              "      <td>5.402966e+05</td>\n",
              "      <td>3.673681e+05</td>\n",
              "      <td>7.800000e+04</td>\n",
              "      <td>3.220000e+05</td>\n",
              "      <td>4.500000e+05</td>\n",
              "      <td>6.450000e+05</td>\n",
              "      <td>7.700000e+06</td>\n",
              "    </tr>\n",
              "    <tr>\n",
              "      <th>bedrooms</th>\n",
              "      <td>21597.0</td>\n",
              "      <td>3.373200e+00</td>\n",
              "      <td>9.262989e-01</td>\n",
              "      <td>1.000000e+00</td>\n",
              "      <td>3.000000e+00</td>\n",
              "      <td>3.000000e+00</td>\n",
              "      <td>4.000000e+00</td>\n",
              "      <td>3.300000e+01</td>\n",
              "    </tr>\n",
              "    <tr>\n",
              "      <th>bathrooms</th>\n",
              "      <td>21597.0</td>\n",
              "      <td>2.115826e+00</td>\n",
              "      <td>7.689843e-01</td>\n",
              "      <td>5.000000e-01</td>\n",
              "      <td>1.750000e+00</td>\n",
              "      <td>2.250000e+00</td>\n",
              "      <td>2.500000e+00</td>\n",
              "      <td>8.000000e+00</td>\n",
              "    </tr>\n",
              "    <tr>\n",
              "      <th>sqft_living</th>\n",
              "      <td>21597.0</td>\n",
              "      <td>2.080322e+03</td>\n",
              "      <td>9.181061e+02</td>\n",
              "      <td>3.700000e+02</td>\n",
              "      <td>1.430000e+03</td>\n",
              "      <td>1.910000e+03</td>\n",
              "      <td>2.550000e+03</td>\n",
              "      <td>1.354000e+04</td>\n",
              "    </tr>\n",
              "    <tr>\n",
              "      <th>sqft_lot</th>\n",
              "      <td>21597.0</td>\n",
              "      <td>1.509941e+04</td>\n",
              "      <td>4.141264e+04</td>\n",
              "      <td>5.200000e+02</td>\n",
              "      <td>5.040000e+03</td>\n",
              "      <td>7.618000e+03</td>\n",
              "      <td>1.068500e+04</td>\n",
              "      <td>1.651359e+06</td>\n",
              "    </tr>\n",
              "    <tr>\n",
              "      <th>floors</th>\n",
              "      <td>21597.0</td>\n",
              "      <td>1.494096e+00</td>\n",
              "      <td>5.396828e-01</td>\n",
              "      <td>1.000000e+00</td>\n",
              "      <td>1.000000e+00</td>\n",
              "      <td>1.500000e+00</td>\n",
              "      <td>2.000000e+00</td>\n",
              "      <td>3.500000e+00</td>\n",
              "    </tr>\n",
              "    <tr>\n",
              "      <th>waterfront</th>\n",
              "      <td>21597.0</td>\n",
              "      <td>7.547345e-03</td>\n",
              "      <td>8.654900e-02</td>\n",
              "      <td>0.000000e+00</td>\n",
              "      <td>0.000000e+00</td>\n",
              "      <td>0.000000e+00</td>\n",
              "      <td>0.000000e+00</td>\n",
              "      <td>1.000000e+00</td>\n",
              "    </tr>\n",
              "    <tr>\n",
              "      <th>view</th>\n",
              "      <td>21597.0</td>\n",
              "      <td>2.342918e-01</td>\n",
              "      <td>7.663898e-01</td>\n",
              "      <td>0.000000e+00</td>\n",
              "      <td>0.000000e+00</td>\n",
              "      <td>0.000000e+00</td>\n",
              "      <td>0.000000e+00</td>\n",
              "      <td>4.000000e+00</td>\n",
              "    </tr>\n",
              "    <tr>\n",
              "      <th>condition</th>\n",
              "      <td>21597.0</td>\n",
              "      <td>3.409825e+00</td>\n",
              "      <td>6.505456e-01</td>\n",
              "      <td>1.000000e+00</td>\n",
              "      <td>3.000000e+00</td>\n",
              "      <td>3.000000e+00</td>\n",
              "      <td>4.000000e+00</td>\n",
              "      <td>5.000000e+00</td>\n",
              "    </tr>\n",
              "    <tr>\n",
              "      <th>grade</th>\n",
              "      <td>21597.0</td>\n",
              "      <td>7.657915e+00</td>\n",
              "      <td>1.173200e+00</td>\n",
              "      <td>3.000000e+00</td>\n",
              "      <td>7.000000e+00</td>\n",
              "      <td>7.000000e+00</td>\n",
              "      <td>8.000000e+00</td>\n",
              "      <td>1.300000e+01</td>\n",
              "    </tr>\n",
              "    <tr>\n",
              "      <th>sqft_above</th>\n",
              "      <td>21597.0</td>\n",
              "      <td>1.788597e+03</td>\n",
              "      <td>8.277598e+02</td>\n",
              "      <td>3.700000e+02</td>\n",
              "      <td>1.190000e+03</td>\n",
              "      <td>1.560000e+03</td>\n",
              "      <td>2.210000e+03</td>\n",
              "      <td>9.410000e+03</td>\n",
              "    </tr>\n",
              "    <tr>\n",
              "      <th>sqft_basement</th>\n",
              "      <td>21597.0</td>\n",
              "      <td>2.917250e+02</td>\n",
              "      <td>4.426678e+02</td>\n",
              "      <td>0.000000e+00</td>\n",
              "      <td>0.000000e+00</td>\n",
              "      <td>0.000000e+00</td>\n",
              "      <td>5.600000e+02</td>\n",
              "      <td>4.820000e+03</td>\n",
              "    </tr>\n",
              "    <tr>\n",
              "      <th>yr_built</th>\n",
              "      <td>21597.0</td>\n",
              "      <td>1.971000e+03</td>\n",
              "      <td>2.937523e+01</td>\n",
              "      <td>1.900000e+03</td>\n",
              "      <td>1.951000e+03</td>\n",
              "      <td>1.975000e+03</td>\n",
              "      <td>1.997000e+03</td>\n",
              "      <td>2.015000e+03</td>\n",
              "    </tr>\n",
              "    <tr>\n",
              "      <th>yr_renovated</th>\n",
              "      <td>21597.0</td>\n",
              "      <td>8.446479e+01</td>\n",
              "      <td>4.018214e+02</td>\n",
              "      <td>0.000000e+00</td>\n",
              "      <td>0.000000e+00</td>\n",
              "      <td>0.000000e+00</td>\n",
              "      <td>0.000000e+00</td>\n",
              "      <td>2.015000e+03</td>\n",
              "    </tr>\n",
              "    <tr>\n",
              "      <th>zipcode</th>\n",
              "      <td>21597.0</td>\n",
              "      <td>9.807795e+04</td>\n",
              "      <td>5.351307e+01</td>\n",
              "      <td>9.800100e+04</td>\n",
              "      <td>9.803300e+04</td>\n",
              "      <td>9.806500e+04</td>\n",
              "      <td>9.811800e+04</td>\n",
              "      <td>9.819900e+04</td>\n",
              "    </tr>\n",
              "    <tr>\n",
              "      <th>lat</th>\n",
              "      <td>21597.0</td>\n",
              "      <td>4.756009e+01</td>\n",
              "      <td>1.385518e-01</td>\n",
              "      <td>4.715590e+01</td>\n",
              "      <td>4.747110e+01</td>\n",
              "      <td>4.757180e+01</td>\n",
              "      <td>4.767800e+01</td>\n",
              "      <td>4.777760e+01</td>\n",
              "    </tr>\n",
              "    <tr>\n",
              "      <th>long</th>\n",
              "      <td>21597.0</td>\n",
              "      <td>-1.222140e+02</td>\n",
              "      <td>1.407235e-01</td>\n",
              "      <td>-1.225190e+02</td>\n",
              "      <td>-1.223280e+02</td>\n",
              "      <td>-1.222310e+02</td>\n",
              "      <td>-1.221250e+02</td>\n",
              "      <td>-1.213150e+02</td>\n",
              "    </tr>\n",
              "    <tr>\n",
              "      <th>sqft_living15</th>\n",
              "      <td>21597.0</td>\n",
              "      <td>1.986620e+03</td>\n",
              "      <td>6.852305e+02</td>\n",
              "      <td>3.990000e+02</td>\n",
              "      <td>1.490000e+03</td>\n",
              "      <td>1.840000e+03</td>\n",
              "      <td>2.360000e+03</td>\n",
              "      <td>6.210000e+03</td>\n",
              "    </tr>\n",
              "    <tr>\n",
              "      <th>sqft_lot15</th>\n",
              "      <td>21597.0</td>\n",
              "      <td>1.275828e+04</td>\n",
              "      <td>2.727444e+04</td>\n",
              "      <td>6.510000e+02</td>\n",
              "      <td>5.100000e+03</td>\n",
              "      <td>7.620000e+03</td>\n",
              "      <td>1.008300e+04</td>\n",
              "      <td>8.712000e+05</td>\n",
              "    </tr>\n",
              "  </tbody>\n",
              "</table>\n",
              "</div>"
            ],
            "text/plain": [
              "                 count          mean  ...           75%           max\n",
              "id             21597.0  4.580474e+09  ...  7.308900e+09  9.900000e+09\n",
              "price          21597.0  5.402966e+05  ...  6.450000e+05  7.700000e+06\n",
              "bedrooms       21597.0  3.373200e+00  ...  4.000000e+00  3.300000e+01\n",
              "bathrooms      21597.0  2.115826e+00  ...  2.500000e+00  8.000000e+00\n",
              "sqft_living    21597.0  2.080322e+03  ...  2.550000e+03  1.354000e+04\n",
              "sqft_lot       21597.0  1.509941e+04  ...  1.068500e+04  1.651359e+06\n",
              "floors         21597.0  1.494096e+00  ...  2.000000e+00  3.500000e+00\n",
              "waterfront     21597.0  7.547345e-03  ...  0.000000e+00  1.000000e+00\n",
              "view           21597.0  2.342918e-01  ...  0.000000e+00  4.000000e+00\n",
              "condition      21597.0  3.409825e+00  ...  4.000000e+00  5.000000e+00\n",
              "grade          21597.0  7.657915e+00  ...  8.000000e+00  1.300000e+01\n",
              "sqft_above     21597.0  1.788597e+03  ...  2.210000e+03  9.410000e+03\n",
              "sqft_basement  21597.0  2.917250e+02  ...  5.600000e+02  4.820000e+03\n",
              "yr_built       21597.0  1.971000e+03  ...  1.997000e+03  2.015000e+03\n",
              "yr_renovated   21597.0  8.446479e+01  ...  0.000000e+00  2.015000e+03\n",
              "zipcode        21597.0  9.807795e+04  ...  9.811800e+04  9.819900e+04\n",
              "lat            21597.0  4.756009e+01  ...  4.767800e+01  4.777760e+01\n",
              "long           21597.0 -1.222140e+02  ... -1.221250e+02 -1.213150e+02\n",
              "sqft_living15  21597.0  1.986620e+03  ...  2.360000e+03  6.210000e+03\n",
              "sqft_lot15     21597.0  1.275828e+04  ...  1.008300e+04  8.712000e+05\n",
              "\n",
              "[20 rows x 8 columns]"
            ]
          },
          "metadata": {
            "tags": []
          },
          "execution_count": 38
        }
      ]
    },
    {
      "cell_type": "markdown",
      "metadata": {
        "id": "qrRPdV-XnrZU"
      },
      "source": [
        "## Visualizations"
      ]
    },
    {
      "cell_type": "code",
      "metadata": {
        "colab": {
          "base_uri": "https://localhost:8080/",
          "height": 470
        },
        "id": "GC_CrewTntdT",
        "outputId": "8019e9a5-beb7-44ef-fcd5-7e8ad7473bee"
      },
      "source": [
        "plt.figure(figsize=(10, 6))\r\n",
        "sns.distplot(df['price'])"
      ],
      "execution_count": 39,
      "outputs": [
        {
          "output_type": "stream",
          "text": [
            "/usr/local/lib/python3.6/dist-packages/seaborn/distributions.py:2557: FutureWarning: `distplot` is a deprecated function and will be removed in a future version. Please adapt your code to use either `displot` (a figure-level function with similar flexibility) or `histplot` (an axes-level function for histograms).\n",
            "  warnings.warn(msg, FutureWarning)\n"
          ],
          "name": "stderr"
        },
        {
          "output_type": "execute_result",
          "data": {
            "text/plain": [
              "<matplotlib.axes._subplots.AxesSubplot at 0x7f00ad8fca58>"
            ]
          },
          "metadata": {
            "tags": []
          },
          "execution_count": 39
        },
        {
          "output_type": "display_data",
          "data": {
            "image/png": "[encoded data removed]",
            "text/plain": [
              "<Figure size 720x432 with 1 Axes>"
            ]
          },
          "metadata": {
            "tags": []
          }
        }
      ]
    },
    {
      "cell_type": "code",
      "metadata": {
        "colab": {
          "base_uri": "https://localhost:8080/",
          "height": 350
        },
        "id": "3woTvlc_oa_4",
        "outputId": "8ca8bdad-ae2a-413c-96e7-0db81ac1b32a"
      },
      "source": [
        "sns.countplot(df['bedrooms'])"
      ],
      "execution_count": 40,
      "outputs": [
        {
          "output_type": "stream",
          "text": [
            "/usr/local/lib/python3.6/dist-packages/seaborn/_decorators.py:43: FutureWarning: Pass the following variable as a keyword arg: x. From version 0.12, the only valid positional argument will be `data`, and passing other arguments without an explicit keyword will result in an error or misinterpretation.\n",
            "  FutureWarning\n"
          ],
          "name": "stderr"
        },
        {
          "output_type": "execute_result",
          "data": {
            "text/plain": [
              "<matplotlib.axes._subplots.AxesSubplot at 0x7f00ad804470>"
            ]
          },
          "metadata": {
            "tags": []
          },
          "execution_count": 40
        },
        {
          "output_type": "display_data",
          "data": {
            "image/png": "[encoded data removed]",
            "text/plain": [
              "<Figure size 432x288 with 1 Axes>"
            ]
          },
          "metadata": {
            "tags": []
          }
        }
      ]
    },
    {
      "cell_type": "markdown",
      "metadata": {
        "id": "c-11z0I6okti"
      },
      "source": [
        "Note the outlier with 33 bedrooms."
      ]
    },
    {
      "cell_type": "code",
      "metadata": {
        "colab": {
          "base_uri": "https://localhost:8080/"
        },
        "id": "Gf-VxcUFo_Bw",
        "outputId": "3880ac5d-08e3-405b-faa2-8a863fc4b7ca"
      },
      "source": [
        "df.corr()['price'].sort_values()"
      ],
      "execution_count": 41,
      "outputs": [
        {
          "output_type": "execute_result",
          "data": {
            "text/plain": [
              "zipcode         -0.053402\n",
              "id              -0.016772\n",
              "long             0.022036\n",
              "condition        0.036056\n",
              "yr_built         0.053953\n",
              "sqft_lot15       0.082845\n",
              "sqft_lot         0.089876\n",
              "yr_renovated     0.126424\n",
              "floors           0.256804\n",
              "waterfront       0.266398\n",
              "lat              0.306692\n",
              "bedrooms         0.308787\n",
              "sqft_basement    0.323799\n",
              "view             0.397370\n",
              "bathrooms        0.525906\n",
              "sqft_living15    0.585241\n",
              "sqft_above       0.605368\n",
              "grade            0.667951\n",
              "sqft_living      0.701917\n",
              "price            1.000000\n",
              "Name: price, dtype: float64"
            ]
          },
          "metadata": {
            "tags": []
          },
          "execution_count": 41
        }
      ]
    },
    {
      "cell_type": "code",
      "metadata": {
        "colab": {
          "base_uri": "https://localhost:8080/",
          "height": 405
        },
        "id": "y-Nz1eM5pH1h",
        "outputId": "0e2224d4-7854-4a55-a343-5edd8d9f4369"
      },
      "source": [
        "plt.figure(figsize=(10, 6))\r\n",
        "sns.scatterplot(x='price', y='sqft_living', data=df)"
      ],
      "execution_count": 42,
      "outputs": [
        {
          "output_type": "execute_result",
          "data": {
            "text/plain": [
              "<matplotlib.axes._subplots.AxesSubplot at 0x7f00ad7e54a8>"
            ]
          },
          "metadata": {
            "tags": []
          },
          "execution_count": 42
        },
        {
          "output_type": "display_data",
          "data": {
            "image/png": "[encoded data removed]",
            "text/plain": [
              "<Figure size 720x432 with 1 Axes>"
            ]
          },
          "metadata": {
            "tags": []
          }
        }
      ]
    },
    {
      "cell_type": "code",
      "metadata": {
        "colab": {
          "base_uri": "https://localhost:8080/",
          "height": 416
        },
        "id": "4Frr6wf0pWXf",
        "outputId": "74ac29f3-ea2c-452e-ed23-214dbb270f1f"
      },
      "source": [
        "plt.figure(figsize=(10,6))\r\n",
        "sns.boxplot(x='bedrooms', y='price', data=df)"
      ],
      "execution_count": 43,
      "outputs": [
        {
          "output_type": "execute_result",
          "data": {
            "text/plain": [
              "<matplotlib.axes._subplots.AxesSubplot at 0x7f00af70ac50>"
            ]
          },
          "metadata": {
            "tags": []
          },
          "execution_count": 43
        },
        {
          "output_type": "display_data",
          "data": {
            "image/png": "[encoded data removed]",
            "text/plain": [
              "<Figure size 720x432 with 1 Axes>"
            ]
          },
          "metadata": {
            "tags": []
          }
        }
      ]
    },
    {
      "cell_type": "markdown",
      "metadata": {
        "id": "1_JSBc0fqH_Z"
      },
      "source": [
        "Use 'lat' and 'long' to map out house sale locations and get price distribution across region."
      ]
    },
    {
      "cell_type": "code",
      "metadata": {
        "colab": {
          "base_uri": "https://localhost:8080/",
          "height": 514
        },
        "id": "gd77WZvvqbIp",
        "outputId": "ea492000-93d6-4ce2-bebc-b44cbe9844e9"
      },
      "source": [
        "plt.figure(figsize=(12,8))\r\n",
        "sns.scatterplot(x='long', y='lat', data=df, hue='price')"
      ],
      "execution_count": 44,
      "outputs": [
        {
          "output_type": "execute_result",
          "data": {
            "text/plain": [
              "<matplotlib.axes._subplots.AxesSubplot at 0x7f00ad5ab0b8>"
            ]
          },
          "metadata": {
            "tags": []
          },
          "execution_count": 44
        },
        {
          "output_type": "display_data",
          "data": {
            "image/png": "[encoded data removed]",
            "text/plain": [
              "<Figure size 864x576 with 1 Axes>"
            ]
          },
          "metadata": {
            "tags": []
          }
        }
      ]
    },
    {
      "cell_type": "markdown",
      "metadata": {
        "id": "ccxgzly8qoxQ"
      },
      "source": [
        "Outliers are skewing visualization. Remove top 1% house prices. The previous iteration of this model building process and evaluation showed that the few outliers of expensive houses impacted the model's performance, so this new dataframe without the top 1% of data entries is instead being used for the rest of this project."
      ]
    },
    {
      "cell_type": "code",
      "metadata": {
        "colab": {
          "base_uri": "https://localhost:8080/"
        },
        "id": "oAKVGC3Xq2J4",
        "outputId": "695f6a59-a8bc-4793-d90c-2406fb485331"
      },
      "source": [
        "len(df) * 0.01"
      ],
      "execution_count": 45,
      "outputs": [
        {
          "output_type": "execute_result",
          "data": {
            "text/plain": [
              "215.97"
            ]
          },
          "metadata": {
            "tags": []
          },
          "execution_count": 45
        }
      ]
    },
    {
      "cell_type": "code",
      "metadata": {
        "colab": {
          "base_uri": "https://localhost:8080/",
          "height": 439
        },
        "id": "dJJG8pjwq9vW",
        "outputId": "4cdbe517-2875-42f8-ee6f-c8979b9fd6a4"
      },
      "source": [
        "df_99 = df.sort_values('price', ascending=False).iloc[216:]\r\n",
        "df_99.sort_values('price', ascending=False)"
      ],
      "execution_count": 46,
      "outputs": [
        {
          "output_type": "execute_result",
          "data": {
            "text/html": [
              "<div>\n",
              "<style scoped>\n",
              "    .dataframe tbody tr th:only-of-type {\n",
              "        vertical-align: middle;\n",
              "    }\n",
              "\n",
              "    .dataframe tbody tr th {\n",
              "        vertical-align: top;\n",
              "    }\n",
              "\n",
              "    .dataframe thead th {\n",
              "        text-align: right;\n",
              "    }\n",
              "</style>\n",
              "<table border=\"1\" class=\"dataframe\">\n",
              "  <thead>\n",
              "    <tr style=\"text-align: right;\">\n",
              "      <th></th>\n",
              "      <th>id</th>\n",
              "      <th>date</th>\n",
              "      <th>price</th>\n",
              "      <th>bedrooms</th>\n",
              "      <th>bathrooms</th>\n",
              "      <th>sqft_living</th>\n",
              "      <th>sqft_lot</th>\n",
              "      <th>floors</th>\n",
              "      <th>waterfront</th>\n",
              "      <th>view</th>\n",
              "      <th>condition</th>\n",
              "      <th>grade</th>\n",
              "      <th>sqft_above</th>\n",
              "      <th>sqft_basement</th>\n",
              "      <th>yr_built</th>\n",
              "      <th>yr_renovated</th>\n",
              "      <th>zipcode</th>\n",
              "      <th>lat</th>\n",
              "      <th>long</th>\n",
              "      <th>sqft_living15</th>\n",
              "      <th>sqft_lot15</th>\n",
              "    </tr>\n",
              "  </thead>\n",
              "  <tbody>\n",
              "    <tr>\n",
              "      <th>6329</th>\n",
              "      <td>824059321</td>\n",
              "      <td>6/2/2014</td>\n",
              "      <td>1970000.0</td>\n",
              "      <td>4</td>\n",
              "      <td>3.50</td>\n",
              "      <td>4370</td>\n",
              "      <td>8510</td>\n",
              "      <td>2.0</td>\n",
              "      <td>0</td>\n",
              "      <td>1</td>\n",
              "      <td>3</td>\n",
              "      <td>10</td>\n",
              "      <td>3610</td>\n",
              "      <td>760</td>\n",
              "      <td>2003</td>\n",
              "      <td>0</td>\n",
              "      <td>98004</td>\n",
              "      <td>47.5876</td>\n",
              "      <td>-122.204</td>\n",
              "      <td>2960</td>\n",
              "      <td>10347</td>\n",
              "    </tr>\n",
              "    <tr>\n",
              "      <th>12565</th>\n",
              "      <td>2806300065</td>\n",
              "      <td>4/22/2015</td>\n",
              "      <td>1960000.0</td>\n",
              "      <td>4</td>\n",
              "      <td>4.00</td>\n",
              "      <td>4430</td>\n",
              "      <td>31353</td>\n",
              "      <td>2.0</td>\n",
              "      <td>0</td>\n",
              "      <td>0</td>\n",
              "      <td>3</td>\n",
              "      <td>12</td>\n",
              "      <td>4430</td>\n",
              "      <td>0</td>\n",
              "      <td>1998</td>\n",
              "      <td>0</td>\n",
              "      <td>98005</td>\n",
              "      <td>47.6422</td>\n",
              "      <td>-122.157</td>\n",
              "      <td>3900</td>\n",
              "      <td>35237</td>\n",
              "    </tr>\n",
              "    <tr>\n",
              "      <th>1150</th>\n",
              "      <td>4055701200</td>\n",
              "      <td>4/21/2015</td>\n",
              "      <td>1960000.0</td>\n",
              "      <td>4</td>\n",
              "      <td>2.75</td>\n",
              "      <td>3120</td>\n",
              "      <td>7898</td>\n",
              "      <td>1.0</td>\n",
              "      <td>1</td>\n",
              "      <td>4</td>\n",
              "      <td>4</td>\n",
              "      <td>8</td>\n",
              "      <td>1560</td>\n",
              "      <td>1560</td>\n",
              "      <td>1963</td>\n",
              "      <td>0</td>\n",
              "      <td>98034</td>\n",
              "      <td>47.7165</td>\n",
              "      <td>-122.259</td>\n",
              "      <td>2630</td>\n",
              "      <td>13868</td>\n",
              "    </tr>\n",
              "    <tr>\n",
              "      <th>12271</th>\n",
              "      <td>1923000260</td>\n",
              "      <td>10/15/2014</td>\n",
              "      <td>1960000.0</td>\n",
              "      <td>5</td>\n",
              "      <td>4.50</td>\n",
              "      <td>6200</td>\n",
              "      <td>23373</td>\n",
              "      <td>3.0</td>\n",
              "      <td>0</td>\n",
              "      <td>1</td>\n",
              "      <td>4</td>\n",
              "      <td>11</td>\n",
              "      <td>5050</td>\n",
              "      <td>1150</td>\n",
              "      <td>1988</td>\n",
              "      <td>0</td>\n",
              "      <td>98040</td>\n",
              "      <td>47.5632</td>\n",
              "      <td>-122.215</td>\n",
              "      <td>3700</td>\n",
              "      <td>14486</td>\n",
              "    </tr>\n",
              "    <tr>\n",
              "      <th>9166</th>\n",
              "      <td>3124059023</td>\n",
              "      <td>2/13/2015</td>\n",
              "      <td>1960000.0</td>\n",
              "      <td>3</td>\n",
              "      <td>1.75</td>\n",
              "      <td>3330</td>\n",
              "      <td>12566</td>\n",
              "      <td>1.0</td>\n",
              "      <td>1</td>\n",
              "      <td>4</td>\n",
              "      <td>4</td>\n",
              "      <td>8</td>\n",
              "      <td>1940</td>\n",
              "      <td>1390</td>\n",
              "      <td>1960</td>\n",
              "      <td>0</td>\n",
              "      <td>98040</td>\n",
              "      <td>47.5287</td>\n",
              "      <td>-122.220</td>\n",
              "      <td>3730</td>\n",
              "      <td>16560</td>\n",
              "    </tr>\n",
              "    <tr>\n",
              "      <th>...</th>\n",
              "      <td>...</td>\n",
              "      <td>...</td>\n",
              "      <td>...</td>\n",
              "      <td>...</td>\n",
              "      <td>...</td>\n",
              "      <td>...</td>\n",
              "      <td>...</td>\n",
              "      <td>...</td>\n",
              "      <td>...</td>\n",
              "      <td>...</td>\n",
              "      <td>...</td>\n",
              "      <td>...</td>\n",
              "      <td>...</td>\n",
              "      <td>...</td>\n",
              "      <td>...</td>\n",
              "      <td>...</td>\n",
              "      <td>...</td>\n",
              "      <td>...</td>\n",
              "      <td>...</td>\n",
              "      <td>...</td>\n",
              "      <td>...</td>\n",
              "    </tr>\n",
              "    <tr>\n",
              "      <th>2139</th>\n",
              "      <td>1623049041</td>\n",
              "      <td>5/8/2014</td>\n",
              "      <td>82500.0</td>\n",
              "      <td>2</td>\n",
              "      <td>1.00</td>\n",
              "      <td>520</td>\n",
              "      <td>22334</td>\n",
              "      <td>1.0</td>\n",
              "      <td>0</td>\n",
              "      <td>0</td>\n",
              "      <td>2</td>\n",
              "      <td>5</td>\n",
              "      <td>520</td>\n",
              "      <td>0</td>\n",
              "      <td>1951</td>\n",
              "      <td>0</td>\n",
              "      <td>98168</td>\n",
              "      <td>47.4799</td>\n",
              "      <td>-122.296</td>\n",
              "      <td>1572</td>\n",
              "      <td>10570</td>\n",
              "    </tr>\n",
              "    <tr>\n",
              "      <th>8267</th>\n",
              "      <td>3883800011</td>\n",
              "      <td>11/5/2014</td>\n",
              "      <td>82000.0</td>\n",
              "      <td>3</td>\n",
              "      <td>1.00</td>\n",
              "      <td>860</td>\n",
              "      <td>10426</td>\n",
              "      <td>1.0</td>\n",
              "      <td>0</td>\n",
              "      <td>0</td>\n",
              "      <td>3</td>\n",
              "      <td>6</td>\n",
              "      <td>860</td>\n",
              "      <td>0</td>\n",
              "      <td>1954</td>\n",
              "      <td>0</td>\n",
              "      <td>98146</td>\n",
              "      <td>47.4987</td>\n",
              "      <td>-122.341</td>\n",
              "      <td>1140</td>\n",
              "      <td>11250</td>\n",
              "    </tr>\n",
              "    <tr>\n",
              "      <th>16184</th>\n",
              "      <td>3028200080</td>\n",
              "      <td>3/24/2015</td>\n",
              "      <td>81000.0</td>\n",
              "      <td>2</td>\n",
              "      <td>1.00</td>\n",
              "      <td>730</td>\n",
              "      <td>9975</td>\n",
              "      <td>1.0</td>\n",
              "      <td>0</td>\n",
              "      <td>0</td>\n",
              "      <td>1</td>\n",
              "      <td>5</td>\n",
              "      <td>730</td>\n",
              "      <td>0</td>\n",
              "      <td>1943</td>\n",
              "      <td>0</td>\n",
              "      <td>98168</td>\n",
              "      <td>47.4808</td>\n",
              "      <td>-122.315</td>\n",
              "      <td>860</td>\n",
              "      <td>9000</td>\n",
              "    </tr>\n",
              "    <tr>\n",
              "      <th>465</th>\n",
              "      <td>8658300340</td>\n",
              "      <td>5/23/2014</td>\n",
              "      <td>80000.0</td>\n",
              "      <td>1</td>\n",
              "      <td>0.75</td>\n",
              "      <td>430</td>\n",
              "      <td>5050</td>\n",
              "      <td>1.0</td>\n",
              "      <td>0</td>\n",
              "      <td>0</td>\n",
              "      <td>2</td>\n",
              "      <td>4</td>\n",
              "      <td>430</td>\n",
              "      <td>0</td>\n",
              "      <td>1912</td>\n",
              "      <td>0</td>\n",
              "      <td>98014</td>\n",
              "      <td>47.6499</td>\n",
              "      <td>-121.909</td>\n",
              "      <td>1200</td>\n",
              "      <td>7500</td>\n",
              "    </tr>\n",
              "    <tr>\n",
              "      <th>15279</th>\n",
              "      <td>40000362</td>\n",
              "      <td>5/6/2014</td>\n",
              "      <td>78000.0</td>\n",
              "      <td>2</td>\n",
              "      <td>1.00</td>\n",
              "      <td>780</td>\n",
              "      <td>16344</td>\n",
              "      <td>1.0</td>\n",
              "      <td>0</td>\n",
              "      <td>0</td>\n",
              "      <td>1</td>\n",
              "      <td>5</td>\n",
              "      <td>780</td>\n",
              "      <td>0</td>\n",
              "      <td>1942</td>\n",
              "      <td>0</td>\n",
              "      <td>98168</td>\n",
              "      <td>47.4739</td>\n",
              "      <td>-122.280</td>\n",
              "      <td>1700</td>\n",
              "      <td>10387</td>\n",
              "    </tr>\n",
              "  </tbody>\n",
              "</table>\n",
              "<p>21381 rows × 21 columns</p>\n",
              "</div>"
            ],
            "text/plain": [
              "               id        date      price  ...     long  sqft_living15  sqft_lot15\n",
              "6329    824059321    6/2/2014  1970000.0  ... -122.204           2960       10347\n",
              "12565  2806300065   4/22/2015  1960000.0  ... -122.157           3900       35237\n",
              "1150   4055701200   4/21/2015  1960000.0  ... -122.259           2630       13868\n",
              "12271  1923000260  10/15/2014  1960000.0  ... -122.215           3700       14486\n",
              "9166   3124059023   2/13/2015  1960000.0  ... -122.220           3730       16560\n",
              "...           ...         ...        ...  ...      ...            ...         ...\n",
              "2139   1623049041    5/8/2014    82500.0  ... -122.296           1572       10570\n",
              "8267   3883800011   11/5/2014    82000.0  ... -122.341           1140       11250\n",
              "16184  3028200080   3/24/2015    81000.0  ... -122.315            860        9000\n",
              "465    8658300340   5/23/2014    80000.0  ... -121.909           1200        7500\n",
              "15279    40000362    5/6/2014    78000.0  ... -122.280           1700       10387\n",
              "\n",
              "[21381 rows x 21 columns]"
            ]
          },
          "metadata": {
            "tags": []
          },
          "execution_count": 46
        }
      ]
    },
    {
      "cell_type": "code",
      "metadata": {
        "colab": {
          "base_uri": "https://localhost:8080/",
          "height": 514
        },
        "id": "eoJC4_6RrSiq",
        "outputId": "b6a39845-e71e-493d-dbf9-58ea797446c8"
      },
      "source": [
        "plt.figure(figsize=(12,8))\r\n",
        "sns.scatterplot(x='long', y='lat', data=df_99, hue='price')"
      ],
      "execution_count": 47,
      "outputs": [
        {
          "output_type": "execute_result",
          "data": {
            "text/plain": [
              "<matplotlib.axes._subplots.AxesSubplot at 0x7f00ad50b0b8>"
            ]
          },
          "metadata": {
            "tags": []
          },
          "execution_count": 47
        },
        {
          "output_type": "display_data",
          "data": {
            "image/png": "[encoded data removed]",
            "text/plain": [
              "<Figure size 864x576 with 1 Axes>"
            ]
          },
          "metadata": {
            "tags": []
          }
        }
      ]
    },
    {
      "cell_type": "code",
      "metadata": {
        "colab": {
          "base_uri": "https://localhost:8080/",
          "height": 307
        },
        "id": "KksIK1cErxC3",
        "outputId": "2fc252fe-e012-4273-c8bd-a44577c5cfdf"
      },
      "source": [
        "sns.boxplot(x='waterfront', y='price', data=df_99)"
      ],
      "execution_count": 48,
      "outputs": [
        {
          "output_type": "execute_result",
          "data": {
            "text/plain": [
              "<matplotlib.axes._subplots.AxesSubplot at 0x7f00ad58ce48>"
            ]
          },
          "metadata": {
            "tags": []
          },
          "execution_count": 48
        },
        {
          "output_type": "display_data",
          "data": {
            "image/png": "[encoded data removed]",
            "text/plain": [
              "<Figure size 432x288 with 1 Axes>"
            ]
          },
          "metadata": {
            "tags": []
          }
        }
      ]
    },
    {
      "cell_type": "markdown",
      "metadata": {
        "id": "jX-MaD0n1zr9"
      },
      "source": [
        "# Feature Engineering"
      ]
    },
    {
      "cell_type": "code",
      "metadata": {
        "colab": {
          "base_uri": "https://localhost:8080/",
          "height": 224
        },
        "id": "g1r8l2kn11r3",
        "outputId": "41b05c39-0978-4677-f2e9-1acb568ccac5"
      },
      "source": [
        "df_99.head()"
      ],
      "execution_count": 49,
      "outputs": [
        {
          "output_type": "execute_result",
          "data": {
            "text/html": [
              "<div>\n",
              "<style scoped>\n",
              "    .dataframe tbody tr th:only-of-type {\n",
              "        vertical-align: middle;\n",
              "    }\n",
              "\n",
              "    .dataframe tbody tr th {\n",
              "        vertical-align: top;\n",
              "    }\n",
              "\n",
              "    .dataframe thead th {\n",
              "        text-align: right;\n",
              "    }\n",
              "</style>\n",
              "<table border=\"1\" class=\"dataframe\">\n",
              "  <thead>\n",
              "    <tr style=\"text-align: right;\">\n",
              "      <th></th>\n",
              "      <th>id</th>\n",
              "      <th>date</th>\n",
              "      <th>price</th>\n",
              "      <th>bedrooms</th>\n",
              "      <th>bathrooms</th>\n",
              "      <th>sqft_living</th>\n",
              "      <th>sqft_lot</th>\n",
              "      <th>floors</th>\n",
              "      <th>waterfront</th>\n",
              "      <th>view</th>\n",
              "      <th>condition</th>\n",
              "      <th>grade</th>\n",
              "      <th>sqft_above</th>\n",
              "      <th>sqft_basement</th>\n",
              "      <th>yr_built</th>\n",
              "      <th>yr_renovated</th>\n",
              "      <th>zipcode</th>\n",
              "      <th>lat</th>\n",
              "      <th>long</th>\n",
              "      <th>sqft_living15</th>\n",
              "      <th>sqft_lot15</th>\n",
              "    </tr>\n",
              "  </thead>\n",
              "  <tbody>\n",
              "    <tr>\n",
              "      <th>6329</th>\n",
              "      <td>824059321</td>\n",
              "      <td>6/2/2014</td>\n",
              "      <td>1970000.0</td>\n",
              "      <td>4</td>\n",
              "      <td>3.50</td>\n",
              "      <td>4370</td>\n",
              "      <td>8510</td>\n",
              "      <td>2.0</td>\n",
              "      <td>0</td>\n",
              "      <td>1</td>\n",
              "      <td>3</td>\n",
              "      <td>10</td>\n",
              "      <td>3610</td>\n",
              "      <td>760</td>\n",
              "      <td>2003</td>\n",
              "      <td>0</td>\n",
              "      <td>98004</td>\n",
              "      <td>47.5876</td>\n",
              "      <td>-122.204</td>\n",
              "      <td>2960</td>\n",
              "      <td>10347</td>\n",
              "    </tr>\n",
              "    <tr>\n",
              "      <th>12271</th>\n",
              "      <td>1923000260</td>\n",
              "      <td>10/15/2014</td>\n",
              "      <td>1960000.0</td>\n",
              "      <td>5</td>\n",
              "      <td>4.50</td>\n",
              "      <td>6200</td>\n",
              "      <td>23373</td>\n",
              "      <td>3.0</td>\n",
              "      <td>0</td>\n",
              "      <td>1</td>\n",
              "      <td>4</td>\n",
              "      <td>11</td>\n",
              "      <td>5050</td>\n",
              "      <td>1150</td>\n",
              "      <td>1988</td>\n",
              "      <td>0</td>\n",
              "      <td>98040</td>\n",
              "      <td>47.5632</td>\n",
              "      <td>-122.215</td>\n",
              "      <td>3700</td>\n",
              "      <td>14486</td>\n",
              "    </tr>\n",
              "    <tr>\n",
              "      <th>9166</th>\n",
              "      <td>3124059023</td>\n",
              "      <td>2/13/2015</td>\n",
              "      <td>1960000.0</td>\n",
              "      <td>3</td>\n",
              "      <td>1.75</td>\n",
              "      <td>3330</td>\n",
              "      <td>12566</td>\n",
              "      <td>1.0</td>\n",
              "      <td>1</td>\n",
              "      <td>4</td>\n",
              "      <td>4</td>\n",
              "      <td>8</td>\n",
              "      <td>1940</td>\n",
              "      <td>1390</td>\n",
              "      <td>1960</td>\n",
              "      <td>0</td>\n",
              "      <td>98040</td>\n",
              "      <td>47.5287</td>\n",
              "      <td>-122.220</td>\n",
              "      <td>3730</td>\n",
              "      <td>16560</td>\n",
              "    </tr>\n",
              "    <tr>\n",
              "      <th>12565</th>\n",
              "      <td>2806300065</td>\n",
              "      <td>4/22/2015</td>\n",
              "      <td>1960000.0</td>\n",
              "      <td>4</td>\n",
              "      <td>4.00</td>\n",
              "      <td>4430</td>\n",
              "      <td>31353</td>\n",
              "      <td>2.0</td>\n",
              "      <td>0</td>\n",
              "      <td>0</td>\n",
              "      <td>3</td>\n",
              "      <td>12</td>\n",
              "      <td>4430</td>\n",
              "      <td>0</td>\n",
              "      <td>1998</td>\n",
              "      <td>0</td>\n",
              "      <td>98005</td>\n",
              "      <td>47.6422</td>\n",
              "      <td>-122.157</td>\n",
              "      <td>3900</td>\n",
              "      <td>35237</td>\n",
              "    </tr>\n",
              "    <tr>\n",
              "      <th>1150</th>\n",
              "      <td>4055701200</td>\n",
              "      <td>4/21/2015</td>\n",
              "      <td>1960000.0</td>\n",
              "      <td>4</td>\n",
              "      <td>2.75</td>\n",
              "      <td>3120</td>\n",
              "      <td>7898</td>\n",
              "      <td>1.0</td>\n",
              "      <td>1</td>\n",
              "      <td>4</td>\n",
              "      <td>4</td>\n",
              "      <td>8</td>\n",
              "      <td>1560</td>\n",
              "      <td>1560</td>\n",
              "      <td>1963</td>\n",
              "      <td>0</td>\n",
              "      <td>98034</td>\n",
              "      <td>47.7165</td>\n",
              "      <td>-122.259</td>\n",
              "      <td>2630</td>\n",
              "      <td>13868</td>\n",
              "    </tr>\n",
              "  </tbody>\n",
              "</table>\n",
              "</div>"
            ],
            "text/plain": [
              "               id        date      price  ...     long  sqft_living15  sqft_lot15\n",
              "6329    824059321    6/2/2014  1970000.0  ... -122.204           2960       10347\n",
              "12271  1923000260  10/15/2014  1960000.0  ... -122.215           3700       14486\n",
              "9166   3124059023   2/13/2015  1960000.0  ... -122.220           3730       16560\n",
              "12565  2806300065   4/22/2015  1960000.0  ... -122.157           3900       35237\n",
              "1150   4055701200   4/21/2015  1960000.0  ... -122.259           2630       13868\n",
              "\n",
              "[5 rows x 21 columns]"
            ]
          },
          "metadata": {
            "tags": []
          },
          "execution_count": 49
        }
      ]
    },
    {
      "cell_type": "markdown",
      "metadata": {
        "id": "u9H3nd841-n-"
      },
      "source": [
        "## Drop Inapplicable Data"
      ]
    },
    {
      "cell_type": "code",
      "metadata": {
        "id": "Xg3klUFC14Js"
      },
      "source": [
        "df_99 = df_99.drop('id', axis=1)"
      ],
      "execution_count": 50,
      "outputs": []
    },
    {
      "cell_type": "markdown",
      "metadata": {
        "id": "yyflbOCF1_-f"
      },
      "source": [
        "## Convert Feature Types"
      ]
    },
    {
      "cell_type": "code",
      "metadata": {
        "colab": {
          "base_uri": "https://localhost:8080/"
        },
        "id": "NhqARj1o2BwI",
        "outputId": "4f373a9e-caaa-46ca-9b36-bde09179de06"
      },
      "source": [
        "df_99['date']"
      ],
      "execution_count": 52,
      "outputs": [
        {
          "output_type": "execute_result",
          "data": {
            "text/plain": [
              "6329       6/2/2014\n",
              "12271    10/15/2014\n",
              "9166      2/13/2015\n",
              "12565     4/22/2015\n",
              "1150      4/21/2015\n",
              "            ...    \n",
              "2139       5/8/2014\n",
              "8267      11/5/2014\n",
              "16184     3/24/2015\n",
              "465       5/23/2014\n",
              "15279      5/6/2014\n",
              "Name: date, Length: 21381, dtype: object"
            ]
          },
          "metadata": {
            "tags": []
          },
          "execution_count": 52
        }
      ]
    },
    {
      "cell_type": "code",
      "metadata": {
        "colab": {
          "base_uri": "https://localhost:8080/"
        },
        "id": "55Pb6d0R2Ecw",
        "outputId": "4d7fd92b-ed8f-4c97-ec43-27758349bd7c"
      },
      "source": [
        "df_99['date'] = pd.to_datetime(df_99['date'])\r\n",
        "df_99['date']"
      ],
      "execution_count": 53,
      "outputs": [
        {
          "output_type": "execute_result",
          "data": {
            "text/plain": [
              "6329    2014-06-02\n",
              "12271   2014-10-15\n",
              "9166    2015-02-13\n",
              "12565   2015-04-22\n",
              "1150    2015-04-21\n",
              "           ...    \n",
              "2139    2014-05-08\n",
              "8267    2014-11-05\n",
              "16184   2015-03-24\n",
              "465     2014-05-23\n",
              "15279   2014-05-06\n",
              "Name: date, Length: 21381, dtype: datetime64[ns]"
            ]
          },
          "metadata": {
            "tags": []
          },
          "execution_count": 53
        }
      ]
    },
    {
      "cell_type": "markdown",
      "metadata": {
        "id": "pW3BEniP2LUy"
      },
      "source": [
        "## Extract New Features"
      ]
    },
    {
      "cell_type": "code",
      "metadata": {
        "colab": {
          "base_uri": "https://localhost:8080/",
          "height": 309
        },
        "id": "4D8R50lE2Nj1",
        "outputId": "c8482d48-e070-475d-d8d5-be91582bdecb"
      },
      "source": [
        "df_99['year'] = df_99['date'].apply(lambda date: date.year)\r\n",
        "df_99['month'] = df_99['date'].apply(lambda date: date.month)\r\n",
        "df_99.head()"
      ],
      "execution_count": 54,
      "outputs": [
        {
          "output_type": "execute_result",
          "data": {
            "text/html": [
              "<div>\n",
              "<style scoped>\n",
              "    .dataframe tbody tr th:only-of-type {\n",
              "        vertical-align: middle;\n",
              "    }\n",
              "\n",
              "    .dataframe tbody tr th {\n",
              "        vertical-align: top;\n",
              "    }\n",
              "\n",
              "    .dataframe thead th {\n",
              "        text-align: right;\n",
              "    }\n",
              "</style>\n",
              "<table border=\"1\" class=\"dataframe\">\n",
              "  <thead>\n",
              "    <tr style=\"text-align: right;\">\n",
              "      <th></th>\n",
              "      <th>date</th>\n",
              "      <th>price</th>\n",
              "      <th>bedrooms</th>\n",
              "      <th>bathrooms</th>\n",
              "      <th>sqft_living</th>\n",
              "      <th>sqft_lot</th>\n",
              "      <th>floors</th>\n",
              "      <th>waterfront</th>\n",
              "      <th>view</th>\n",
              "      <th>condition</th>\n",
              "      <th>grade</th>\n",
              "      <th>sqft_above</th>\n",
              "      <th>sqft_basement</th>\n",
              "      <th>yr_built</th>\n",
              "      <th>yr_renovated</th>\n",
              "      <th>zipcode</th>\n",
              "      <th>lat</th>\n",
              "      <th>long</th>\n",
              "      <th>sqft_living15</th>\n",
              "      <th>sqft_lot15</th>\n",
              "      <th>year</th>\n",
              "      <th>month</th>\n",
              "    </tr>\n",
              "  </thead>\n",
              "  <tbody>\n",
              "    <tr>\n",
              "      <th>6329</th>\n",
              "      <td>2014-06-02</td>\n",
              "      <td>1970000.0</td>\n",
              "      <td>4</td>\n",
              "      <td>3.50</td>\n",
              "      <td>4370</td>\n",
              "      <td>8510</td>\n",
              "      <td>2.0</td>\n",
              "      <td>0</td>\n",
              "      <td>1</td>\n",
              "      <td>3</td>\n",
              "      <td>10</td>\n",
              "      <td>3610</td>\n",
              "      <td>760</td>\n",
              "      <td>2003</td>\n",
              "      <td>0</td>\n",
              "      <td>98004</td>\n",
              "      <td>47.5876</td>\n",
              "      <td>-122.204</td>\n",
              "      <td>2960</td>\n",
              "      <td>10347</td>\n",
              "      <td>2014</td>\n",
              "      <td>6</td>\n",
              "    </tr>\n",
              "    <tr>\n",
              "      <th>12271</th>\n",
              "      <td>2014-10-15</td>\n",
              "      <td>1960000.0</td>\n",
              "      <td>5</td>\n",
              "      <td>4.50</td>\n",
              "      <td>6200</td>\n",
              "      <td>23373</td>\n",
              "      <td>3.0</td>\n",
              "      <td>0</td>\n",
              "      <td>1</td>\n",
              "      <td>4</td>\n",
              "      <td>11</td>\n",
              "      <td>5050</td>\n",
              "      <td>1150</td>\n",
              "      <td>1988</td>\n",
              "      <td>0</td>\n",
              "      <td>98040</td>\n",
              "      <td>47.5632</td>\n",
              "      <td>-122.215</td>\n",
              "      <td>3700</td>\n",
              "      <td>14486</td>\n",
              "      <td>2014</td>\n",
              "      <td>10</td>\n",
              "    </tr>\n",
              "    <tr>\n",
              "      <th>9166</th>\n",
              "      <td>2015-02-13</td>\n",
              "      <td>1960000.0</td>\n",
              "      <td>3</td>\n",
              "      <td>1.75</td>\n",
              "      <td>3330</td>\n",
              "      <td>12566</td>\n",
              "      <td>1.0</td>\n",
              "      <td>1</td>\n",
              "      <td>4</td>\n",
              "      <td>4</td>\n",
              "      <td>8</td>\n",
              "      <td>1940</td>\n",
              "      <td>1390</td>\n",
              "      <td>1960</td>\n",
              "      <td>0</td>\n",
              "      <td>98040</td>\n",
              "      <td>47.5287</td>\n",
              "      <td>-122.220</td>\n",
              "      <td>3730</td>\n",
              "      <td>16560</td>\n",
              "      <td>2015</td>\n",
              "      <td>2</td>\n",
              "    </tr>\n",
              "    <tr>\n",
              "      <th>12565</th>\n",
              "      <td>2015-04-22</td>\n",
              "      <td>1960000.0</td>\n",
              "      <td>4</td>\n",
              "      <td>4.00</td>\n",
              "      <td>4430</td>\n",
              "      <td>31353</td>\n",
              "      <td>2.0</td>\n",
              "      <td>0</td>\n",
              "      <td>0</td>\n",
              "      <td>3</td>\n",
              "      <td>12</td>\n",
              "      <td>4430</td>\n",
              "      <td>0</td>\n",
              "      <td>1998</td>\n",
              "      <td>0</td>\n",
              "      <td>98005</td>\n",
              "      <td>47.6422</td>\n",
              "      <td>-122.157</td>\n",
              "      <td>3900</td>\n",
              "      <td>35237</td>\n",
              "      <td>2015</td>\n",
              "      <td>4</td>\n",
              "    </tr>\n",
              "    <tr>\n",
              "      <th>1150</th>\n",
              "      <td>2015-04-21</td>\n",
              "      <td>1960000.0</td>\n",
              "      <td>4</td>\n",
              "      <td>2.75</td>\n",
              "      <td>3120</td>\n",
              "      <td>7898</td>\n",
              "      <td>1.0</td>\n",
              "      <td>1</td>\n",
              "      <td>4</td>\n",
              "      <td>4</td>\n",
              "      <td>8</td>\n",
              "      <td>1560</td>\n",
              "      <td>1560</td>\n",
              "      <td>1963</td>\n",
              "      <td>0</td>\n",
              "      <td>98034</td>\n",
              "      <td>47.7165</td>\n",
              "      <td>-122.259</td>\n",
              "      <td>2630</td>\n",
              "      <td>13868</td>\n",
              "      <td>2015</td>\n",
              "      <td>4</td>\n",
              "    </tr>\n",
              "  </tbody>\n",
              "</table>\n",
              "</div>"
            ],
            "text/plain": [
              "            date      price  bedrooms  ...  sqft_lot15  year  month\n",
              "6329  2014-06-02  1970000.0         4  ...       10347  2014      6\n",
              "12271 2014-10-15  1960000.0         5  ...       14486  2014     10\n",
              "9166  2015-02-13  1960000.0         3  ...       16560  2015      2\n",
              "12565 2015-04-22  1960000.0         4  ...       35237  2015      4\n",
              "1150  2015-04-21  1960000.0         4  ...       13868  2015      4\n",
              "\n",
              "[5 rows x 22 columns]"
            ]
          },
          "metadata": {
            "tags": []
          },
          "execution_count": 54
        }
      ]
    },
    {
      "cell_type": "code",
      "metadata": {
        "colab": {
          "base_uri": "https://localhost:8080/",
          "height": 296
        },
        "id": "xNADD3ao2dau",
        "outputId": "7e7a7885-75ca-4ae7-c210-cc13aa98a3a4"
      },
      "source": [
        "df_99.groupby('month').mean()['price'].plot()"
      ],
      "execution_count": 55,
      "outputs": [
        {
          "output_type": "execute_result",
          "data": {
            "text/plain": [
              "<matplotlib.axes._subplots.AxesSubplot at 0x7f00af6953c8>"
            ]
          },
          "metadata": {
            "tags": []
          },
          "execution_count": 55
        },
        {
          "output_type": "display_data",
          "data": {
            "image/png": "[encoded data removed]",
            "text/plain": [
              "<Figure size 432x288 with 1 Axes>"
            ]
          },
          "metadata": {
            "tags": []
          }
        }
      ]
    },
    {
      "cell_type": "code",
      "metadata": {
        "colab": {
          "base_uri": "https://localhost:8080/",
          "height": 296
        },
        "id": "V_9QHjbk2jvp",
        "outputId": "83a5ad4f-de11-4452-ef92-633b1a08e26b"
      },
      "source": [
        "df_99.groupby('year').mean()['price'].plot()"
      ],
      "execution_count": 56,
      "outputs": [
        {
          "output_type": "execute_result",
          "data": {
            "text/plain": [
              "<matplotlib.axes._subplots.AxesSubplot at 0x7f00ad774668>"
            ]
          },
          "metadata": {
            "tags": []
          },
          "execution_count": 56
        },
        {
          "output_type": "display_data",
          "data": {
            "image/png": "[encoded data removed]",
            "text/plain": [
              "<Figure size 432x288 with 1 Axes>"
            ]
          },
          "metadata": {
            "tags": []
          }
        }
      ]
    },
    {
      "cell_type": "code",
      "metadata": {
        "id": "0QBEG3g92nJ5"
      },
      "source": [
        "df_99 = df_99.drop('date', axis=1)"
      ],
      "execution_count": 57,
      "outputs": []
    },
    {
      "cell_type": "markdown",
      "metadata": {
        "id": "KAl3ffsp2bWX"
      },
      "source": [
        "## Continuous v. Categorical Features"
      ]
    },
    {
      "cell_type": "code",
      "metadata": {
        "colab": {
          "base_uri": "https://localhost:8080/"
        },
        "id": "dOrh6g6322cF",
        "outputId": "dc2686ea-006d-4b78-b7d3-c7b9a8c38b79"
      },
      "source": [
        "df_99['zipcode'].value_counts()"
      ],
      "execution_count": 58,
      "outputs": [
        {
          "output_type": "execute_result",
          "data": {
            "text/plain": [
              "98103    602\n",
              "98038    589\n",
              "98115    582\n",
              "98052    573\n",
              "98117    553\n",
              "        ... \n",
              "98010    100\n",
              "98102     99\n",
              "98024     80\n",
              "98148     57\n",
              "98039     29\n",
              "Name: zipcode, Length: 70, dtype: int64"
            ]
          },
          "metadata": {
            "tags": []
          },
          "execution_count": 58
        }
      ]
    },
    {
      "cell_type": "markdown",
      "metadata": {
        "id": "u-jBurM3FQb4"
      },
      "source": [
        "## Analyzing Features"
      ]
    },
    {
      "cell_type": "code",
      "metadata": {
        "colab": {
          "base_uri": "https://localhost:8080/"
        },
        "id": "nXPW01Q728V7",
        "outputId": "c6490fdf-95c8-4514-dbce-fd74ac09ec43"
      },
      "source": [
        "df_99['yr_renovated'].value_counts()"
      ],
      "execution_count": 59,
      "outputs": [
        {
          "output_type": "execute_result",
          "data": {
            "text/plain": [
              "0       20499\n",
              "2014       91\n",
              "2013       36\n",
              "2007       34\n",
              "2000       34\n",
              "        ...  \n",
              "1959        1\n",
              "1954        1\n",
              "1948        1\n",
              "1944        1\n",
              "1951        1\n",
              "Name: yr_renovated, Length: 70, dtype: int64"
            ]
          },
          "metadata": {
            "tags": []
          },
          "execution_count": 59
        }
      ]
    },
    {
      "cell_type": "code",
      "metadata": {
        "colab": {
          "base_uri": "https://localhost:8080/"
        },
        "id": "oUJpF0lV2_UI",
        "outputId": "28a13ba2-94fb-482e-eb9f-a7c90386a75a"
      },
      "source": [
        "df_99['sqft_basement'].value_counts()"
      ],
      "execution_count": 60,
      "outputs": [
        {
          "output_type": "execute_result",
          "data": {
            "text/plain": [
              "0       13052\n",
              "600       219\n",
              "700       214\n",
              "500       214\n",
              "800       205\n",
              "        ...  \n",
              "2610        1\n",
              "2850        1\n",
              "915         1\n",
              "20          1\n",
              "1135        1\n",
              "Name: sqft_basement, Length: 292, dtype: int64"
            ]
          },
          "metadata": {
            "tags": []
          },
          "execution_count": 60
        }
      ]
    },
    {
      "cell_type": "markdown",
      "metadata": {
        "id": "PbAkXWH8FS3T"
      },
      "source": [
        "# Data Pre-Processing"
      ]
    },
    {
      "cell_type": "markdown",
      "metadata": {
        "id": "cu3lNsblFZn7"
      },
      "source": [
        "Convert features and labels from Pandas Series/DataFrame to NumPy arrays."
      ]
    },
    {
      "cell_type": "code",
      "metadata": {
        "id": "Or01jyHXFgZd"
      },
      "source": [
        "X = df_99.drop('price', axis=1).values\r\n",
        "y = df_99['price'].values"
      ],
      "execution_count": 76,
      "outputs": []
    },
    {
      "cell_type": "markdown",
      "metadata": {
        "id": "Cm5-fsuTFVVy"
      },
      "source": [
        "## Train/Test Split"
      ]
    },
    {
      "cell_type": "code",
      "metadata": {
        "id": "HgRnd6-NGa5Q"
      },
      "source": [
        "from sklearn.model_selection import train_test_split"
      ],
      "execution_count": 77,
      "outputs": []
    },
    {
      "cell_type": "code",
      "metadata": {
        "id": "91UN2L-UGeNb"
      },
      "source": [
        "X_train, X_test, y_train, y_test = train_test_split(X, y, test_size=0.3, random_state=100)"
      ],
      "execution_count": 78,
      "outputs": []
    },
    {
      "cell_type": "markdown",
      "metadata": {
        "id": "QIxK1PxSFq1B"
      },
      "source": [
        "## Scaling"
      ]
    },
    {
      "cell_type": "markdown",
      "metadata": {
        "id": "-t8xTz9bG7o7"
      },
      "source": [
        "Scale data only after train/test split."
      ]
    },
    {
      "cell_type": "code",
      "metadata": {
        "id": "Q4ocSs0HGp-C"
      },
      "source": [
        "from sklearn.preprocessing import MinMaxScaler"
      ],
      "execution_count": 79,
      "outputs": []
    },
    {
      "cell_type": "code",
      "metadata": {
        "id": "iAPdJcp_GsdV"
      },
      "source": [
        "scaler = MinMaxScaler()"
      ],
      "execution_count": 80,
      "outputs": []
    },
    {
      "cell_type": "code",
      "metadata": {
        "id": "fr9EM2ndGvrT"
      },
      "source": [
        "X_train = scaler.fit_transform(X_train)"
      ],
      "execution_count": 81,
      "outputs": []
    },
    {
      "cell_type": "markdown",
      "metadata": {
        "id": "DQ3Qy7s3HD9K"
      },
      "source": [
        "Only transform the test data; do not fit."
      ]
    },
    {
      "cell_type": "code",
      "metadata": {
        "id": "HaIkS-gvG-c5"
      },
      "source": [
        "X_test = scaler.transform(X_test)"
      ],
      "execution_count": 82,
      "outputs": []
    },
    {
      "cell_type": "markdown",
      "metadata": {
        "id": "oC4-w92JFsO0"
      },
      "source": [
        "# Create Model"
      ]
    },
    {
      "cell_type": "code",
      "metadata": {
        "id": "zmQZN8YBHLCW"
      },
      "source": [
        "from tensorflow.keras.models import Sequential\r\n",
        "from tensorflow.keras.layers import Dense"
      ],
      "execution_count": 83,
      "outputs": []
    },
    {
      "cell_type": "markdown",
      "metadata": {
        "id": "1XP5419nFuLQ"
      },
      "source": [
        "## Specify Neurons & Layers"
      ]
    },
    {
      "cell_type": "code",
      "metadata": {
        "colab": {
          "base_uri": "https://localhost:8080/"
        },
        "id": "_pZr6IgBHSHF",
        "outputId": "1d647adf-e8e8-4041-e162-4ada95a041d6"
      },
      "source": [
        "X_train.shape"
      ],
      "execution_count": 84,
      "outputs": [
        {
          "output_type": "execute_result",
          "data": {
            "text/plain": [
              "(14966, 20)"
            ]
          },
          "metadata": {
            "tags": []
          },
          "execution_count": 84
        }
      ]
    },
    {
      "cell_type": "markdown",
      "metadata": {
        "id": "p8OIBFbYIc8U"
      },
      "source": [
        "Data has 20 features, so 20 neurons per layer."
      ]
    },
    {
      "cell_type": "markdown",
      "metadata": {
        "id": "E_nqhNM1Fzhf"
      },
      "source": [
        "## Construct & Compile Model"
      ]
    },
    {
      "cell_type": "code",
      "metadata": {
        "id": "rUBvOJOLIkgE"
      },
      "source": [
        "model = Sequential()\r\n",
        "\r\n",
        "model.add(Dense(20, activation='relu'))\r\n",
        "model.add(Dense(20, activation='relu'))\r\n",
        "model.add(Dense(20, activation='relu'))\r\n",
        "model.add(Dense(20, activation='relu'))\r\n",
        "\r\n",
        "model.add(Dense(1))\r\n",
        "\r\n",
        "model.compile(optimizer='adam', loss='mse')"
      ],
      "execution_count": 85,
      "outputs": []
    },
    {
      "cell_type": "markdown",
      "metadata": {
        "id": "3KONdPh8F2eZ"
      },
      "source": [
        "# Train Model"
      ]
    },
    {
      "cell_type": "code",
      "metadata": {
        "colab": {
          "base_uri": "https://localhost:8080/"
        },
        "id": "HS531IQUI3Kz",
        "outputId": "17005aa3-abec-4620-9278-f1b58553f0d9"
      },
      "source": [
        "model.fit(x=X_train, y=y_train, \r\n",
        "          validation_data=(X_test, y_test), \r\n",
        "          batch_size=128, epochs=400)"
      ],
      "execution_count": 86,
      "outputs": [
        {
          "output_type": "stream",
          "text": [
            "Epoch 1/400\n",
            "117/117 [==============================] - 1s 3ms/step - loss: 349591792761.4915 - val_loss: 354744205312.0000\n",
            "Epoch 2/400\n",
            "117/117 [==============================] - 0s 2ms/step - loss: 344739230737.3560 - val_loss: 348087713792.0000\n",
            "Epoch 3/400\n",
            "117/117 [==============================] - 0s 2ms/step - loss: 335702650255.1865 - val_loss: 286256005120.0000\n",
            "Epoch 4/400\n",
            "117/117 [==============================] - 0s 2ms/step - loss: 245232148063.4576 - val_loss: 122550165504.0000\n",
            "Epoch 5/400\n",
            "117/117 [==============================] - 0s 2ms/step - loss: 89635657415.5932 - val_loss: 57595305984.0000\n",
            "Epoch 6/400\n",
            "117/117 [==============================] - 0s 2ms/step - loss: 54252691629.5593 - val_loss: 55892377600.0000\n",
            "Epoch 7/400\n",
            "117/117 [==============================] - 0s 2ms/step - loss: 52384268791.3220 - val_loss: 54825340928.0000\n",
            "Epoch 8/400\n",
            "117/117 [==============================] - 0s 2ms/step - loss: 52031419756.4746 - val_loss: 53726199808.0000\n",
            "Epoch 9/400\n",
            "117/117 [==============================] - 0s 2ms/step - loss: 49722221585.3559 - val_loss: 52577673216.0000\n",
            "Epoch 10/400\n",
            "117/117 [==============================] - 0s 2ms/step - loss: 48563554616.4068 - val_loss: 51435356160.0000\n",
            "Epoch 11/400\n",
            "117/117 [==============================] - 0s 2ms/step - loss: 50330951749.4237 - val_loss: 50267828224.0000\n",
            "Epoch 12/400\n",
            "117/117 [==============================] - 0s 2ms/step - loss: 48078474153.2203 - val_loss: 49122959360.0000\n",
            "Epoch 13/400\n",
            "117/117 [==============================] - 0s 2ms/step - loss: 45996522062.1017 - val_loss: 47824547840.0000\n",
            "Epoch 14/400\n",
            "117/117 [==============================] - 0s 2ms/step - loss: 44598462325.1525 - val_loss: 46537486336.0000\n",
            "Epoch 15/400\n",
            "117/117 [==============================] - 0s 2ms/step - loss: 44035613227.3898 - val_loss: 45258784768.0000\n",
            "Epoch 16/400\n",
            "117/117 [==============================] - 0s 2ms/step - loss: 43131837474.7119 - val_loss: 43940343808.0000\n",
            "Epoch 17/400\n",
            "117/117 [==============================] - 0s 2ms/step - loss: 39600706490.5763 - val_loss: 42591948800.0000\n",
            "Epoch 18/400\n",
            "117/117 [==============================] - 0s 2ms/step - loss: 40194075908.3390 - val_loss: 41258037248.0000\n",
            "Epoch 19/400\n",
            "117/117 [==============================] - 0s 2ms/step - loss: 38926462594.1695 - val_loss: 39895449600.0000\n",
            "Epoch 20/400\n",
            "117/117 [==============================] - 0s 2ms/step - loss: 37526352496.8136 - val_loss: 38515691520.0000\n",
            "Epoch 21/400\n",
            "117/117 [==============================] - 0s 2ms/step - loss: 35669324609.0847 - val_loss: 37198970880.0000\n",
            "Epoch 22/400\n",
            "117/117 [==============================] - 0s 2ms/step - loss: 35153402046.9153 - val_loss: 35932479488.0000\n",
            "Epoch 23/400\n",
            "117/117 [==============================] - 0s 2ms/step - loss: 33060071771.1186 - val_loss: 34729758720.0000\n",
            "Epoch 24/400\n",
            "117/117 [==============================] - 0s 2ms/step - loss: 33233979426.7119 - val_loss: 33633269760.0000\n",
            "Epoch 25/400\n",
            "117/117 [==============================] - 0s 2ms/step - loss: 32103371307.3898 - val_loss: 32652591104.0000\n",
            "Epoch 26/400\n",
            "117/117 [==============================] - 0s 2ms/step - loss: 30904390360.9492 - val_loss: 31712774144.0000\n",
            "Epoch 27/400\n",
            "117/117 [==============================] - 0s 2ms/step - loss: 29810715231.4576 - val_loss: 30965811200.0000\n",
            "Epoch 28/400\n",
            "117/117 [==============================] - 0s 2ms/step - loss: 29750508682.8475 - val_loss: 30213748736.0000\n",
            "Epoch 29/400\n",
            "117/117 [==============================] - 0s 2ms/step - loss: 27324068135.0508 - val_loss: 29511936000.0000\n",
            "Epoch 30/400\n",
            "117/117 [==============================] - 0s 2ms/step - loss: 28631440123.6610 - val_loss: 28914110464.0000\n",
            "Epoch 31/400\n",
            "117/117 [==============================] - 0s 2ms/step - loss: 26938960566.2373 - val_loss: 28451166208.0000\n",
            "Epoch 32/400\n",
            "117/117 [==============================] - 0s 2ms/step - loss: 26621862356.6102 - val_loss: 27932895232.0000\n",
            "Epoch 33/400\n",
            "117/117 [==============================] - 0s 2ms/step - loss: 26063580663.3220 - val_loss: 27508713472.0000\n",
            "Epoch 34/400\n",
            "117/117 [==============================] - 0s 2ms/step - loss: 25492821130.8475 - val_loss: 27145183232.0000\n",
            "Epoch 35/400\n",
            "117/117 [==============================] - 0s 2ms/step - loss: 26965147977.7627 - val_loss: 26865135616.0000\n",
            "Epoch 36/400\n",
            "117/117 [==============================] - 0s 2ms/step - loss: 26088389267.5254 - val_loss: 26669076480.0000\n",
            "Epoch 37/400\n",
            "117/117 [==============================] - 0s 2ms/step - loss: 24257818537.2203 - val_loss: 26257039360.0000\n",
            "Epoch 38/400\n",
            "117/117 [==============================] - 0s 3ms/step - loss: 24850927477.1525 - val_loss: 26034251776.0000\n",
            "Epoch 39/400\n",
            "117/117 [==============================] - 0s 2ms/step - loss: 24163738780.2034 - val_loss: 25834213376.0000\n",
            "Epoch 40/400\n",
            "117/117 [==============================] - 0s 2ms/step - loss: 24026468942.1017 - val_loss: 25656668160.0000\n",
            "Epoch 41/400\n",
            "117/117 [==============================] - 0s 2ms/step - loss: 24317154928.8136 - val_loss: 25508808704.0000\n",
            "Epoch 42/400\n",
            "117/117 [==============================] - 0s 2ms/step - loss: 24674954465.6271 - val_loss: 25311983616.0000\n",
            "Epoch 43/400\n",
            "117/117 [==============================] - 0s 2ms/step - loss: 24467186254.1017 - val_loss: 25180520448.0000\n",
            "Epoch 44/400\n",
            "117/117 [==============================] - 0s 2ms/step - loss: 23978209904.8136 - val_loss: 25006014464.0000\n",
            "Epoch 45/400\n",
            "117/117 [==============================] - 0s 2ms/step - loss: 23761291420.2034 - val_loss: 24915300352.0000\n",
            "Epoch 46/400\n",
            "117/117 [==============================] - 0s 2ms/step - loss: 23022872046.6441 - val_loss: 24756197376.0000\n",
            "Epoch 47/400\n",
            "117/117 [==============================] - 0s 2ms/step - loss: 23172086749.2881 - val_loss: 24602093568.0000\n",
            "Epoch 48/400\n",
            "117/117 [==============================] - 0s 2ms/step - loss: 23108753286.5085 - val_loss: 24524001280.0000\n",
            "Epoch 49/400\n",
            "117/117 [==============================] - 0s 2ms/step - loss: 24009799194.0339 - val_loss: 24422629376.0000\n",
            "Epoch 50/400\n",
            "117/117 [==============================] - 0s 2ms/step - loss: 22875311746.1695 - val_loss: 24290560000.0000\n",
            "Epoch 51/400\n",
            "117/117 [==============================] - 0s 2ms/step - loss: 22597607944.6780 - val_loss: 24195117056.0000\n",
            "Epoch 52/400\n",
            "117/117 [==============================] - 0s 2ms/step - loss: 22530068775.0508 - val_loss: 24095094784.0000\n",
            "Epoch 53/400\n",
            "117/117 [==============================] - 0s 2ms/step - loss: 22956458591.4576 - val_loss: 23994462208.0000\n",
            "Epoch 54/400\n",
            "117/117 [==============================] - 0s 2ms/step - loss: 22418683088.2712 - val_loss: 23886571520.0000\n",
            "Epoch 55/400\n",
            "117/117 [==============================] - 0s 2ms/step - loss: 22675537138.9831 - val_loss: 23780472832.0000\n",
            "Epoch 56/400\n",
            "117/117 [==============================] - 0s 2ms/step - loss: 22592956537.4915 - val_loss: 23685922816.0000\n",
            "Epoch 57/400\n",
            "117/117 [==============================] - 0s 2ms/step - loss: 22996587589.4237 - val_loss: 23685650432.0000\n",
            "Epoch 58/400\n",
            "117/117 [==============================] - 0s 2ms/step - loss: 22643985789.8305 - val_loss: 23510478848.0000\n",
            "Epoch 59/400\n",
            "117/117 [==============================] - 0s 2ms/step - loss: 22412961566.3729 - val_loss: 23496579072.0000\n",
            "Epoch 60/400\n",
            "117/117 [==============================] - 0s 2ms/step - loss: 22620893409.6271 - val_loss: 23347873792.0000\n",
            "Epoch 61/400\n",
            "117/117 [==============================] - 0s 2ms/step - loss: 21884745936.2712 - val_loss: 23325491200.0000\n",
            "Epoch 62/400\n",
            "117/117 [==============================] - 0s 2ms/step - loss: 21212887595.3898 - val_loss: 23235328000.0000\n",
            "Epoch 63/400\n",
            "117/117 [==============================] - 0s 2ms/step - loss: 22759649436.2034 - val_loss: 23144468480.0000\n",
            "Epoch 64/400\n",
            "117/117 [==============================] - 0s 2ms/step - loss: 21973010449.3559 - val_loss: 23100592128.0000\n",
            "Epoch 65/400\n",
            "117/117 [==============================] - 0s 2ms/step - loss: 21366811457.0847 - val_loss: 23019313152.0000\n",
            "Epoch 66/400\n",
            "117/117 [==============================] - 0s 2ms/step - loss: 21899390680.9492 - val_loss: 22967660544.0000\n",
            "Epoch 67/400\n",
            "117/117 [==============================] - 0s 2ms/step - loss: 22389942167.8644 - val_loss: 22971113472.0000\n",
            "Epoch 68/400\n",
            "117/117 [==============================] - 0s 2ms/step - loss: 22376114922.3051 - val_loss: 22873884672.0000\n",
            "Epoch 69/400\n",
            "117/117 [==============================] - 0s 2ms/step - loss: 21390877999.7288 - val_loss: 22794231808.0000\n",
            "Epoch 70/400\n",
            "117/117 [==============================] - 0s 2ms/step - loss: 21514260896.5424 - val_loss: 22798903296.0000\n",
            "Epoch 71/400\n",
            "117/117 [==============================] - 0s 2ms/step - loss: 21379283603.5254 - val_loss: 22678949888.0000\n",
            "Epoch 72/400\n",
            "117/117 [==============================] - 0s 2ms/step - loss: 22213025861.4237 - val_loss: 22666074112.0000\n",
            "Epoch 73/400\n",
            "117/117 [==============================] - 0s 2ms/step - loss: 20655074842.0339 - val_loss: 22588715008.0000\n",
            "Epoch 74/400\n",
            "117/117 [==============================] - 0s 2ms/step - loss: 21197065476.3390 - val_loss: 22532075520.0000\n",
            "Epoch 75/400\n",
            "117/117 [==============================] - 0s 2ms/step - loss: 20880011472.2712 - val_loss: 22491389952.0000\n",
            "Epoch 76/400\n",
            "117/117 [==============================] - 0s 2ms/step - loss: 21545783538.9831 - val_loss: 22452402176.0000\n",
            "Epoch 77/400\n",
            "117/117 [==============================] - 0s 2ms/step - loss: 20887651466.8475 - val_loss: 22482161664.0000\n",
            "Epoch 78/400\n",
            "117/117 [==============================] - 0s 2ms/step - loss: 21571659619.7966 - val_loss: 22411941888.0000\n",
            "Epoch 79/400\n",
            "117/117 [==============================] - 0s 2ms/step - loss: 20934179683.7966 - val_loss: 22352209920.0000\n",
            "Epoch 80/400\n",
            "117/117 [==============================] - 0s 2ms/step - loss: 21672727465.2203 - val_loss: 22317858816.0000\n",
            "Epoch 81/400\n",
            "117/117 [==============================] - 0s 2ms/step - loss: 21473575623.5932 - val_loss: 22296231936.0000\n",
            "Epoch 82/400\n",
            "117/117 [==============================] - 0s 2ms/step - loss: 21617230032.2712 - val_loss: 22261295104.0000\n",
            "Epoch 83/400\n",
            "117/117 [==============================] - 0s 2ms/step - loss: 21893861341.2881 - val_loss: 22235148288.0000\n",
            "Epoch 84/400\n",
            "117/117 [==============================] - 0s 2ms/step - loss: 21872970509.0169 - val_loss: 22206642176.0000\n",
            "Epoch 85/400\n",
            "117/117 [==============================] - 0s 2ms/step - loss: 21427695511.8644 - val_loss: 22160814080.0000\n",
            "Epoch 86/400\n",
            "117/117 [==============================] - 0s 2ms/step - loss: 21223771708.7458 - val_loss: 22132017152.0000\n",
            "Epoch 87/400\n",
            "117/117 [==============================] - 0s 2ms/step - loss: 21943219286.7797 - val_loss: 22129170432.0000\n",
            "Epoch 88/400\n",
            "117/117 [==============================] - 0s 2ms/step - loss: 20791490455.8644 - val_loss: 22088863744.0000\n",
            "Epoch 89/400\n",
            "117/117 [==============================] - 0s 2ms/step - loss: 21831157378.1695 - val_loss: 22052993024.0000\n",
            "Epoch 90/400\n",
            "117/117 [==============================] - 0s 2ms/step - loss: 21343567498.8475 - val_loss: 22026954752.0000\n",
            "Epoch 91/400\n",
            "117/117 [==============================] - 0s 2ms/step - loss: 20750374443.3898 - val_loss: 22154708992.0000\n",
            "Epoch 92/400\n",
            "117/117 [==============================] - 0s 2ms/step - loss: 21775669699.2542 - val_loss: 21974081536.0000\n",
            "Epoch 93/400\n",
            "117/117 [==============================] - 0s 2ms/step - loss: 20693449970.9831 - val_loss: 21957693440.0000\n",
            "Epoch 94/400\n",
            "117/117 [==============================] - 0s 3ms/step - loss: 21043069865.2203 - val_loss: 21925660672.0000\n",
            "Epoch 95/400\n",
            "117/117 [==============================] - 0s 2ms/step - loss: 21018837894.5085 - val_loss: 21899980800.0000\n",
            "Epoch 96/400\n",
            "117/117 [==============================] - 0s 2ms/step - loss: 20562546028.4746 - val_loss: 21875316736.0000\n",
            "Epoch 97/400\n",
            "117/117 [==============================] - 0s 2ms/step - loss: 20355970065.3559 - val_loss: 21847969792.0000\n",
            "Epoch 98/400\n",
            "117/117 [==============================] - 0s 2ms/step - loss: 20834606392.4068 - val_loss: 21825017856.0000\n",
            "Epoch 99/400\n",
            "117/117 [==============================] - 0s 2ms/step - loss: 20489088321.0847 - val_loss: 21828028416.0000\n",
            "Epoch 100/400\n",
            "117/117 [==============================] - 0s 2ms/step - loss: 20903353474.1695 - val_loss: 21808326656.0000\n",
            "Epoch 101/400\n",
            "117/117 [==============================] - 0s 2ms/step - loss: 20428845194.8475 - val_loss: 21767032832.0000\n",
            "Epoch 102/400\n",
            "117/117 [==============================] - 0s 2ms/step - loss: 21256723959.3220 - val_loss: 21735684096.0000\n",
            "Epoch 103/400\n",
            "117/117 [==============================] - 0s 2ms/step - loss: 20520785659.6610 - val_loss: 21745422336.0000\n",
            "Epoch 104/400\n",
            "117/117 [==============================] - 0s 2ms/step - loss: 21347890245.4237 - val_loss: 21698129920.0000\n",
            "Epoch 105/400\n",
            "117/117 [==============================] - 0s 2ms/step - loss: 20855303306.8475 - val_loss: 21782585344.0000\n",
            "Epoch 106/400\n",
            "117/117 [==============================] - 0s 2ms/step - loss: 20804654826.3051 - val_loss: 21668206592.0000\n",
            "Epoch 107/400\n",
            "117/117 [==============================] - 0s 2ms/step - loss: 20444578347.3898 - val_loss: 21652467712.0000\n",
            "Epoch 108/400\n",
            "117/117 [==============================] - 0s 2ms/step - loss: 20855494126.6441 - val_loss: 21723019264.0000\n",
            "Epoch 109/400\n",
            "117/117 [==============================] - 0s 2ms/step - loss: 20871511040.0000 - val_loss: 21626017792.0000\n",
            "Epoch 110/400\n",
            "117/117 [==============================] - 0s 2ms/step - loss: 21209555134.9153 - val_loss: 21700853760.0000\n",
            "Epoch 111/400\n",
            "117/117 [==============================] - 0s 2ms/step - loss: 20499243702.2373 - val_loss: 21620443136.0000\n",
            "Epoch 112/400\n",
            "117/117 [==============================] - 0s 2ms/step - loss: 20448104717.0169 - val_loss: 21583812608.0000\n",
            "Epoch 113/400\n",
            "117/117 [==============================] - 0s 2ms/step - loss: 21222083670.7797 - val_loss: 21723500544.0000\n",
            "Epoch 114/400\n",
            "117/117 [==============================] - 0s 2ms/step - loss: 20342826860.4746 - val_loss: 21561419776.0000\n",
            "Epoch 115/400\n",
            "117/117 [==============================] - 0s 2ms/step - loss: 20689223211.3898 - val_loss: 21548503040.0000\n",
            "Epoch 116/400\n",
            "117/117 [==============================] - 0s 2ms/step - loss: 19813529261.5593 - val_loss: 21533339648.0000\n",
            "Epoch 117/400\n",
            "117/117 [==============================] - 0s 2ms/step - loss: 20550779175.0508 - val_loss: 21552504832.0000\n",
            "Epoch 118/400\n",
            "117/117 [==============================] - 0s 2ms/step - loss: 20871703708.2034 - val_loss: 21570244608.0000\n",
            "Epoch 119/400\n",
            "117/117 [==============================] - 0s 2ms/step - loss: 20918275584.0000 - val_loss: 21511239680.0000\n",
            "Epoch 120/400\n",
            "117/117 [==============================] - 0s 2ms/step - loss: 19997387446.2373 - val_loss: 21517969408.0000\n",
            "Epoch 121/400\n",
            "117/117 [==============================] - 0s 2ms/step - loss: 20901186577.3559 - val_loss: 21553301504.0000\n",
            "Epoch 122/400\n",
            "117/117 [==============================] - 0s 2ms/step - loss: 19916468102.5085 - val_loss: 21464793088.0000\n",
            "Epoch 123/400\n",
            "117/117 [==============================] - 0s 2ms/step - loss: 20613532238.1017 - val_loss: 21464502272.0000\n",
            "Epoch 124/400\n",
            "117/117 [==============================] - 0s 2ms/step - loss: 20361103151.7288 - val_loss: 21456140288.0000\n",
            "Epoch 125/400\n",
            "117/117 [==============================] - 0s 2ms/step - loss: 19599444384.5424 - val_loss: 21440718848.0000\n",
            "Epoch 126/400\n",
            "117/117 [==============================] - 0s 2ms/step - loss: 19824645380.3390 - val_loss: 21489696768.0000\n",
            "Epoch 127/400\n",
            "117/117 [==============================] - 0s 2ms/step - loss: 19831472553.2203 - val_loss: 21576185856.0000\n",
            "Epoch 128/400\n",
            "117/117 [==============================] - 0s 2ms/step - loss: 19710237505.0847 - val_loss: 21426075648.0000\n",
            "Epoch 129/400\n",
            "117/117 [==============================] - 0s 2ms/step - loss: 20375394972.2034 - val_loss: 21408169984.0000\n",
            "Epoch 130/400\n",
            "117/117 [==============================] - 0s 2ms/step - loss: 21035216869.9661 - val_loss: 21424062464.0000\n",
            "Epoch 131/400\n",
            "117/117 [==============================] - 0s 2ms/step - loss: 20349673879.8644 - val_loss: 21415618560.0000\n",
            "Epoch 132/400\n",
            "117/117 [==============================] - 0s 2ms/step - loss: 19802346817.0847 - val_loss: 21378598912.0000\n",
            "Epoch 133/400\n",
            "117/117 [==============================] - 0s 2ms/step - loss: 20473400120.4068 - val_loss: 21392216064.0000\n",
            "Epoch 134/400\n",
            "117/117 [==============================] - 0s 2ms/step - loss: 20916922420.0678 - val_loss: 21397256192.0000\n",
            "Epoch 135/400\n",
            "117/117 [==============================] - 0s 2ms/step - loss: 20821715030.7797 - val_loss: 21357635584.0000\n",
            "Epoch 136/400\n",
            "117/117 [==============================] - 0s 2ms/step - loss: 20465245826.1695 - val_loss: 21348284416.0000\n",
            "Epoch 137/400\n",
            "117/117 [==============================] - 0s 2ms/step - loss: 19968156064.5424 - val_loss: 21353082880.0000\n",
            "Epoch 138/400\n",
            "117/117 [==============================] - 0s 2ms/step - loss: 19607649679.1864 - val_loss: 21360965632.0000\n",
            "Epoch 139/400\n",
            "117/117 [==============================] - 0s 2ms/step - loss: 20630062097.3559 - val_loss: 21454006272.0000\n",
            "Epoch 140/400\n",
            "117/117 [==============================] - 0s 2ms/step - loss: 20942470577.8983 - val_loss: 21337049088.0000\n",
            "Epoch 141/400\n",
            "117/117 [==============================] - 0s 2ms/step - loss: 19825133047.3220 - val_loss: 21318123520.0000\n",
            "Epoch 142/400\n",
            "117/117 [==============================] - 0s 2ms/step - loss: 19583905115.1186 - val_loss: 21313566720.0000\n",
            "Epoch 143/400\n",
            "117/117 [==============================] - 0s 2ms/step - loss: 19949206562.7119 - val_loss: 21308557312.0000\n",
            "Epoch 144/400\n",
            "117/117 [==============================] - 0s 2ms/step - loss: 20630028426.8475 - val_loss: 21336262656.0000\n",
            "Epoch 145/400\n",
            "117/117 [==============================] - 0s 2ms/step - loss: 19841651312.8136 - val_loss: 21292095488.0000\n",
            "Epoch 146/400\n",
            "117/117 [==============================] - 0s 2ms/step - loss: 19646902619.1186 - val_loss: 21315190784.0000\n",
            "Epoch 147/400\n",
            "117/117 [==============================] - 0s 2ms/step - loss: 19759394920.1356 - val_loss: 21310980096.0000\n",
            "Epoch 148/400\n",
            "117/117 [==============================] - 0s 2ms/step - loss: 20599318996.6102 - val_loss: 21289246720.0000\n",
            "Epoch 149/400\n",
            "117/117 [==============================] - 0s 3ms/step - loss: 20257723444.0678 - val_loss: 21269356544.0000\n",
            "Epoch 150/400\n",
            "117/117 [==============================] - 0s 2ms/step - loss: 20596965757.8305 - val_loss: 21267922944.0000\n",
            "Epoch 151/400\n",
            "117/117 [==============================] - 0s 2ms/step - loss: 20332440124.7458 - val_loss: 21355151360.0000\n",
            "Epoch 152/400\n",
            "117/117 [==============================] - 0s 2ms/step - loss: 20865654888.1356 - val_loss: 21264760832.0000\n",
            "Epoch 153/400\n",
            "117/117 [==============================] - 0s 2ms/step - loss: 19803313941.6949 - val_loss: 21249079296.0000\n",
            "Epoch 154/400\n",
            "117/117 [==============================] - 0s 2ms/step - loss: 20296070144.0000 - val_loss: 21246599168.0000\n",
            "Epoch 155/400\n",
            "117/117 [==============================] - 0s 2ms/step - loss: 19832359979.3898 - val_loss: 21236682752.0000\n",
            "Epoch 156/400\n",
            "117/117 [==============================] - 0s 2ms/step - loss: 20044114275.7966 - val_loss: 21267427328.0000\n",
            "Epoch 157/400\n",
            "117/117 [==============================] - 0s 2ms/step - loss: 19916538637.0169 - val_loss: 21228744704.0000\n",
            "Epoch 158/400\n",
            "117/117 [==============================] - 0s 2ms/step - loss: 20198729710.6441 - val_loss: 21233053696.0000\n",
            "Epoch 159/400\n",
            "117/117 [==============================] - 0s 2ms/step - loss: 20541609168.2712 - val_loss: 21224699904.0000\n",
            "Epoch 160/400\n",
            "117/117 [==============================] - 0s 2ms/step - loss: 19976612065.6271 - val_loss: 21215916032.0000\n",
            "Epoch 161/400\n",
            "117/117 [==============================] - 0s 2ms/step - loss: 20458904975.1864 - val_loss: 21216303104.0000\n",
            "Epoch 162/400\n",
            "117/117 [==============================] - 0s 2ms/step - loss: 20064146996.0678 - val_loss: 21203521536.0000\n",
            "Epoch 163/400\n",
            "117/117 [==============================] - 0s 2ms/step - loss: 20181437969.3559 - val_loss: 21230223360.0000\n",
            "Epoch 164/400\n",
            "117/117 [==============================] - 0s 2ms/step - loss: 19951271397.9661 - val_loss: 21194022912.0000\n",
            "Epoch 165/400\n",
            "117/117 [==============================] - 0s 2ms/step - loss: 19675453995.3898 - val_loss: 21216933888.0000\n",
            "Epoch 166/400\n",
            "117/117 [==============================] - 0s 2ms/step - loss: 19721117166.6441 - val_loss: 21189234688.0000\n",
            "Epoch 167/400\n",
            "117/117 [==============================] - 0s 2ms/step - loss: 19386692304.2712 - val_loss: 21180983296.0000\n",
            "Epoch 168/400\n",
            "117/117 [==============================] - 0s 2ms/step - loss: 20233657586.9831 - val_loss: 21232371712.0000\n",
            "Epoch 169/400\n",
            "117/117 [==============================] - 0s 2ms/step - loss: 19762797290.3051 - val_loss: 21298116608.0000\n",
            "Epoch 170/400\n",
            "117/117 [==============================] - 0s 2ms/step - loss: 20395621983.4576 - val_loss: 21162295296.0000\n",
            "Epoch 171/400\n",
            "117/117 [==============================] - 0s 2ms/step - loss: 20287464517.4237 - val_loss: 21157027840.0000\n",
            "Epoch 172/400\n",
            "117/117 [==============================] - 0s 2ms/step - loss: 20621579628.4746 - val_loss: 21158727680.0000\n",
            "Epoch 173/400\n",
            "117/117 [==============================] - 0s 2ms/step - loss: 20079196229.4237 - val_loss: 21151053824.0000\n",
            "Epoch 174/400\n",
            "117/117 [==============================] - 0s 2ms/step - loss: 19989714371.2542 - val_loss: 21156311040.0000\n",
            "Epoch 175/400\n",
            "117/117 [==============================] - 0s 2ms/step - loss: 19707730197.6949 - val_loss: 21137569792.0000\n",
            "Epoch 176/400\n",
            "117/117 [==============================] - 0s 2ms/step - loss: 20571185880.9492 - val_loss: 21154320384.0000\n",
            "Epoch 177/400\n",
            "117/117 [==============================] - 0s 2ms/step - loss: 20702639104.0000 - val_loss: 21138696192.0000\n",
            "Epoch 178/400\n",
            "117/117 [==============================] - 0s 2ms/step - loss: 20589492883.5254 - val_loss: 21126608896.0000\n",
            "Epoch 179/400\n",
            "117/117 [==============================] - 0s 2ms/step - loss: 19532976596.6102 - val_loss: 21125568512.0000\n",
            "Epoch 180/400\n",
            "117/117 [==============================] - 0s 2ms/step - loss: 20215844647.0508 - val_loss: 21114353664.0000\n",
            "Epoch 181/400\n",
            "117/117 [==============================] - 0s 2ms/step - loss: 21278761584.8136 - val_loss: 21112905728.0000\n",
            "Epoch 182/400\n",
            "117/117 [==============================] - 0s 2ms/step - loss: 19837486184.1356 - val_loss: 21120770048.0000\n",
            "Epoch 183/400\n",
            "117/117 [==============================] - 0s 2ms/step - loss: 19888785685.6949 - val_loss: 21122521088.0000\n",
            "Epoch 184/400\n",
            "117/117 [==============================] - 0s 2ms/step - loss: 19364039836.2034 - val_loss: 21102096384.0000\n",
            "Epoch 185/400\n",
            "117/117 [==============================] - 0s 2ms/step - loss: 20074947809.6271 - val_loss: 21114996736.0000\n",
            "Epoch 186/400\n",
            "117/117 [==============================] - 0s 2ms/step - loss: 19841814354.4407 - val_loss: 21107658752.0000\n",
            "Epoch 187/400\n",
            "117/117 [==============================] - 0s 2ms/step - loss: 19641238606.1017 - val_loss: 21093060608.0000\n",
            "Epoch 188/400\n",
            "117/117 [==============================] - 0s 2ms/step - loss: 19895739027.5254 - val_loss: 21151971328.0000\n",
            "Epoch 189/400\n",
            "117/117 [==============================] - 0s 2ms/step - loss: 20160064121.4915 - val_loss: 21077970944.0000\n",
            "Epoch 190/400\n",
            "117/117 [==============================] - 0s 2ms/step - loss: 19922683010.1695 - val_loss: 21079203840.0000\n",
            "Epoch 191/400\n",
            "117/117 [==============================] - 0s 2ms/step - loss: 20280271993.4915 - val_loss: 21069465600.0000\n",
            "Epoch 192/400\n",
            "117/117 [==============================] - 0s 2ms/step - loss: 20114678818.7119 - val_loss: 21077712896.0000\n",
            "Epoch 193/400\n",
            "117/117 [==============================] - 0s 2ms/step - loss: 20173175417.4915 - val_loss: 21072105472.0000\n",
            "Epoch 194/400\n",
            "117/117 [==============================] - 0s 2ms/step - loss: 20268551515.1186 - val_loss: 21065973760.0000\n",
            "Epoch 195/400\n",
            "117/117 [==============================] - 0s 2ms/step - loss: 20096789764.3390 - val_loss: 21065580544.0000\n",
            "Epoch 196/400\n",
            "117/117 [==============================] - 0s 2ms/step - loss: 20354801733.4237 - val_loss: 21052297216.0000\n",
            "Epoch 197/400\n",
            "117/117 [==============================] - 0s 2ms/step - loss: 19874878967.3220 - val_loss: 21059956736.0000\n",
            "Epoch 198/400\n",
            "117/117 [==============================] - 0s 2ms/step - loss: 19891860827.1186 - val_loss: 21038854144.0000\n",
            "Epoch 199/400\n",
            "117/117 [==============================] - 0s 2ms/step - loss: 20142482813.8305 - val_loss: 21037068288.0000\n",
            "Epoch 200/400\n",
            "117/117 [==============================] - 0s 2ms/step - loss: 19666234819.2542 - val_loss: 21033691136.0000\n",
            "Epoch 201/400\n",
            "117/117 [==============================] - 0s 2ms/step - loss: 20197992708.3390 - val_loss: 21037428736.0000\n",
            "Epoch 202/400\n",
            "117/117 [==============================] - 0s 2ms/step - loss: 19527691611.1186 - val_loss: 21028777984.0000\n",
            "Epoch 203/400\n",
            "117/117 [==============================] - 0s 2ms/step - loss: 19312782006.2373 - val_loss: 21031290880.0000\n",
            "Epoch 204/400\n",
            "117/117 [==============================] - 0s 3ms/step - loss: 19397171469.0169 - val_loss: 21019404288.0000\n",
            "Epoch 205/400\n",
            "117/117 [==============================] - 0s 2ms/step - loss: 19176924507.1186 - val_loss: 21039898624.0000\n",
            "Epoch 206/400\n",
            "117/117 [==============================] - 0s 2ms/step - loss: 20137661969.3559 - val_loss: 21040807936.0000\n",
            "Epoch 207/400\n",
            "117/117 [==============================] - 0s 2ms/step - loss: 19936296508.7458 - val_loss: 21053370368.0000\n",
            "Epoch 208/400\n",
            "117/117 [==============================] - 0s 2ms/step - loss: 19417154750.9153 - val_loss: 21038129152.0000\n",
            "Epoch 209/400\n",
            "117/117 [==============================] - 0s 2ms/step - loss: 19198992418.7119 - val_loss: 21033334784.0000\n",
            "Epoch 210/400\n",
            "117/117 [==============================] - 0s 2ms/step - loss: 20068111516.2034 - val_loss: 21043294208.0000\n",
            "Epoch 211/400\n",
            "117/117 [==============================] - 0s 2ms/step - loss: 19736688882.9831 - val_loss: 21004464128.0000\n",
            "Epoch 212/400\n",
            "117/117 [==============================] - 0s 2ms/step - loss: 19709191089.8983 - val_loss: 20997382144.0000\n",
            "Epoch 213/400\n",
            "117/117 [==============================] - 0s 2ms/step - loss: 19413789374.9153 - val_loss: 20993677312.0000\n",
            "Epoch 214/400\n",
            "117/117 [==============================] - 0s 2ms/step - loss: 19925667145.7627 - val_loss: 20980889600.0000\n",
            "Epoch 215/400\n",
            "117/117 [==============================] - 0s 2ms/step - loss: 19442775092.0678 - val_loss: 20975650816.0000\n",
            "Epoch 216/400\n",
            "117/117 [==============================] - 0s 2ms/step - loss: 19477266379.9322 - val_loss: 20977903616.0000\n",
            "Epoch 217/400\n",
            "117/117 [==============================] - 0s 2ms/step - loss: 19948399997.8305 - val_loss: 20982874112.0000\n",
            "Epoch 218/400\n",
            "117/117 [==============================] - 0s 2ms/step - loss: 20520172144.8136 - val_loss: 20960962560.0000\n",
            "Epoch 219/400\n",
            "117/117 [==============================] - 0s 2ms/step - loss: 19491232715.9322 - val_loss: 21036042240.0000\n",
            "Epoch 220/400\n",
            "117/117 [==============================] - 0s 2ms/step - loss: 20338415373.0169 - val_loss: 20951945216.0000\n",
            "Epoch 221/400\n",
            "117/117 [==============================] - 0s 2ms/step - loss: 20200628970.3051 - val_loss: 20963741696.0000\n",
            "Epoch 222/400\n",
            "117/117 [==============================] - 0s 2ms/step - loss: 19891064189.8305 - val_loss: 20958302208.0000\n",
            "Epoch 223/400\n",
            "117/117 [==============================] - 0s 2ms/step - loss: 19500376029.2881 - val_loss: 20952047616.0000\n",
            "Epoch 224/400\n",
            "117/117 [==============================] - 0s 2ms/step - loss: 19709996960.5424 - val_loss: 20991211520.0000\n",
            "Epoch 225/400\n",
            "117/117 [==============================] - 0s 2ms/step - loss: 20179899235.7966 - val_loss: 20935356416.0000\n",
            "Epoch 226/400\n",
            "117/117 [==============================] - 0s 2ms/step - loss: 20699147836.7458 - val_loss: 20960540672.0000\n",
            "Epoch 227/400\n",
            "117/117 [==============================] - 0s 2ms/step - loss: 19764133193.7627 - val_loss: 20933468160.0000\n",
            "Epoch 228/400\n",
            "117/117 [==============================] - 0s 2ms/step - loss: 19531429749.1525 - val_loss: 20926670848.0000\n",
            "Epoch 229/400\n",
            "117/117 [==============================] - 0s 2ms/step - loss: 19683904043.3898 - val_loss: 20921102336.0000\n",
            "Epoch 230/400\n",
            "117/117 [==============================] - 0s 2ms/step - loss: 20568063618.1695 - val_loss: 20920346624.0000\n",
            "Epoch 231/400\n",
            "117/117 [==============================] - 0s 2ms/step - loss: 19928615380.6102 - val_loss: 20935792640.0000\n",
            "Epoch 232/400\n",
            "117/117 [==============================] - 0s 2ms/step - loss: 20570191837.2881 - val_loss: 21042393088.0000\n",
            "Epoch 233/400\n",
            "117/117 [==============================] - 0s 2ms/step - loss: 20275144044.4746 - val_loss: 21105223680.0000\n",
            "Epoch 234/400\n",
            "117/117 [==============================] - 0s 2ms/step - loss: 19727154748.7458 - val_loss: 20899966976.0000\n",
            "Epoch 235/400\n",
            "117/117 [==============================] - 0s 2ms/step - loss: 18888460730.5763 - val_loss: 20896376832.0000\n",
            "Epoch 236/400\n",
            "117/117 [==============================] - 0s 2ms/step - loss: 20035155646.9153 - val_loss: 20943292416.0000\n",
            "Epoch 237/400\n",
            "117/117 [==============================] - 0s 2ms/step - loss: 19486039951.1864 - val_loss: 20894169088.0000\n",
            "Epoch 238/400\n",
            "117/117 [==============================] - 0s 2ms/step - loss: 19338326016.0000 - val_loss: 20877778944.0000\n",
            "Epoch 239/400\n",
            "117/117 [==============================] - 0s 2ms/step - loss: 19661861645.0169 - val_loss: 20930443264.0000\n",
            "Epoch 240/400\n",
            "117/117 [==============================] - 0s 2ms/step - loss: 19458815028.0678 - val_loss: 20926156800.0000\n",
            "Epoch 241/400\n",
            "117/117 [==============================] - 0s 2ms/step - loss: 19225446165.6949 - val_loss: 20870008832.0000\n",
            "Epoch 242/400\n",
            "117/117 [==============================] - 0s 2ms/step - loss: 19058679426.1695 - val_loss: 21013796864.0000\n",
            "Epoch 243/400\n",
            "117/117 [==============================] - 0s 2ms/step - loss: 19444704568.4068 - val_loss: 20877459456.0000\n",
            "Epoch 244/400\n",
            "117/117 [==============================] - 0s 2ms/step - loss: 20223503898.0339 - val_loss: 20854579200.0000\n",
            "Epoch 245/400\n",
            "117/117 [==============================] - 0s 2ms/step - loss: 19997364571.1186 - val_loss: 20853000192.0000\n",
            "Epoch 246/400\n",
            "117/117 [==============================] - 0s 2ms/step - loss: 19621084871.5932 - val_loss: 20854749184.0000\n",
            "Epoch 247/400\n",
            "117/117 [==============================] - 0s 2ms/step - loss: 19777998830.6441 - val_loss: 20838526976.0000\n",
            "Epoch 248/400\n",
            "117/117 [==============================] - 0s 2ms/step - loss: 19555874468.8814 - val_loss: 20843714560.0000\n",
            "Epoch 249/400\n",
            "117/117 [==============================] - 0s 2ms/step - loss: 20412734689.6271 - val_loss: 20859068416.0000\n",
            "Epoch 250/400\n",
            "117/117 [==============================] - 0s 2ms/step - loss: 19058845522.4407 - val_loss: 20839139328.0000\n",
            "Epoch 251/400\n",
            "117/117 [==============================] - 0s 2ms/step - loss: 19987323053.5593 - val_loss: 20824426496.0000\n",
            "Epoch 252/400\n",
            "117/117 [==============================] - 0s 2ms/step - loss: 19449554952.6780 - val_loss: 20827432960.0000\n",
            "Epoch 253/400\n",
            "117/117 [==============================] - 0s 2ms/step - loss: 19486511928.4068 - val_loss: 20827881472.0000\n",
            "Epoch 254/400\n",
            "117/117 [==============================] - 0s 2ms/step - loss: 19764019998.3729 - val_loss: 20818468864.0000\n",
            "Epoch 255/400\n",
            "117/117 [==============================] - 0s 2ms/step - loss: 19753168540.2034 - val_loss: 20799981568.0000\n",
            "Epoch 256/400\n",
            "117/117 [==============================] - 0s 2ms/step - loss: 20008946236.7458 - val_loss: 20805627904.0000\n",
            "Epoch 257/400\n",
            "117/117 [==============================] - 0s 2ms/step - loss: 19889515511.3220 - val_loss: 20799528960.0000\n",
            "Epoch 258/400\n",
            "117/117 [==============================] - 0s 2ms/step - loss: 20006349667.7966 - val_loss: 20814254080.0000\n",
            "Epoch 259/400\n",
            "117/117 [==============================] - 0s 2ms/step - loss: 19099174443.3898 - val_loss: 20788402176.0000\n",
            "Epoch 260/400\n",
            "117/117 [==============================] - 0s 3ms/step - loss: 19466015084.4746 - val_loss: 20812591104.0000\n",
            "Epoch 261/400\n",
            "117/117 [==============================] - 0s 2ms/step - loss: 18953568637.8305 - val_loss: 20786321408.0000\n",
            "Epoch 262/400\n",
            "117/117 [==============================] - 0s 2ms/step - loss: 19850932675.2542 - val_loss: 20774635520.0000\n",
            "Epoch 263/400\n",
            "117/117 [==============================] - 0s 2ms/step - loss: 19718437905.3559 - val_loss: 20762251264.0000\n",
            "Epoch 264/400\n",
            "117/117 [==============================] - 0s 2ms/step - loss: 19456290330.0339 - val_loss: 20789114880.0000\n",
            "Epoch 265/400\n",
            "117/117 [==============================] - 0s 2ms/step - loss: 18777395373.5593 - val_loss: 20862699520.0000\n",
            "Epoch 266/400\n",
            "117/117 [==============================] - 0s 2ms/step - loss: 19717550548.6102 - val_loss: 20751648768.0000\n",
            "Epoch 267/400\n",
            "117/117 [==============================] - 0s 2ms/step - loss: 19511002771.5254 - val_loss: 20746686464.0000\n",
            "Epoch 268/400\n",
            "117/117 [==============================] - 0s 2ms/step - loss: 19845561283.2542 - val_loss: 20742508544.0000\n",
            "Epoch 269/400\n",
            "117/117 [==============================] - 0s 2ms/step - loss: 19214126635.3898 - val_loss: 20735956992.0000\n",
            "Epoch 270/400\n",
            "117/117 [==============================] - 0s 2ms/step - loss: 19901130682.5763 - val_loss: 20778948608.0000\n",
            "Epoch 271/400\n",
            "117/117 [==============================] - 0s 2ms/step - loss: 19497789405.2881 - val_loss: 20769998848.0000\n",
            "Epoch 272/400\n",
            "117/117 [==============================] - 0s 2ms/step - loss: 20039516350.9153 - val_loss: 20817539072.0000\n",
            "Epoch 273/400\n",
            "117/117 [==============================] - 0s 2ms/step - loss: 19250957528.9492 - val_loss: 20754364416.0000\n",
            "Epoch 274/400\n",
            "117/117 [==============================] - 0s 2ms/step - loss: 18960217643.3898 - val_loss: 20715958272.0000\n",
            "Epoch 275/400\n",
            "117/117 [==============================] - 0s 2ms/step - loss: 19663518208.0000 - val_loss: 20708126720.0000\n",
            "Epoch 276/400\n",
            "117/117 [==============================] - 0s 2ms/step - loss: 19168528123.6610 - val_loss: 20772044800.0000\n",
            "Epoch 277/400\n",
            "117/117 [==============================] - 0s 2ms/step - loss: 19021026217.2203 - val_loss: 20697778176.0000\n",
            "Epoch 278/400\n",
            "117/117 [==============================] - 0s 2ms/step - loss: 19914037664.5424 - val_loss: 20715139072.0000\n",
            "Epoch 279/400\n",
            "117/117 [==============================] - 0s 2ms/step - loss: 20420992989.2881 - val_loss: 20783140864.0000\n",
            "Epoch 280/400\n",
            "117/117 [==============================] - 0s 2ms/step - loss: 20568474467.7966 - val_loss: 20822646784.0000\n",
            "Epoch 281/400\n",
            "117/117 [==============================] - 0s 2ms/step - loss: 19180461238.2373 - val_loss: 20677074944.0000\n",
            "Epoch 282/400\n",
            "117/117 [==============================] - 0s 2ms/step - loss: 19602474556.7458 - val_loss: 20677558272.0000\n",
            "Epoch 283/400\n",
            "117/117 [==============================] - 0s 2ms/step - loss: 19411302521.4915 - val_loss: 20668821504.0000\n",
            "Epoch 284/400\n",
            "117/117 [==============================] - 0s 2ms/step - loss: 20217741641.7627 - val_loss: 20675702784.0000\n",
            "Epoch 285/400\n",
            "117/117 [==============================] - 0s 2ms/step - loss: 19708849828.8814 - val_loss: 20662702080.0000\n",
            "Epoch 286/400\n",
            "117/117 [==============================] - 0s 2ms/step - loss: 19777474056.6780 - val_loss: 20650237952.0000\n",
            "Epoch 287/400\n",
            "117/117 [==============================] - 0s 2ms/step - loss: 20033443527.5932 - val_loss: 20646471680.0000\n",
            "Epoch 288/400\n",
            "117/117 [==============================] - 0s 2ms/step - loss: 19689175543.3220 - val_loss: 20660199424.0000\n",
            "Epoch 289/400\n",
            "117/117 [==============================] - 0s 2ms/step - loss: 19283444510.3729 - val_loss: 20684341248.0000\n",
            "Epoch 290/400\n",
            "117/117 [==============================] - 0s 2ms/step - loss: 19224398275.2542 - val_loss: 20625569792.0000\n",
            "Epoch 291/400\n",
            "117/117 [==============================] - 0s 2ms/step - loss: 19421107529.7627 - val_loss: 20637032448.0000\n",
            "Epoch 292/400\n",
            "117/117 [==============================] - 0s 2ms/step - loss: 19256069067.9322 - val_loss: 20658075648.0000\n",
            "Epoch 293/400\n",
            "117/117 [==============================] - 0s 2ms/step - loss: 19946161204.0678 - val_loss: 20613048320.0000\n",
            "Epoch 294/400\n",
            "117/117 [==============================] - 0s 2ms/step - loss: 19940881911.3220 - val_loss: 20600279040.0000\n",
            "Epoch 295/400\n",
            "117/117 [==============================] - 0s 2ms/step - loss: 18864989826.1695 - val_loss: 20596277248.0000\n",
            "Epoch 296/400\n",
            "117/117 [==============================] - 0s 2ms/step - loss: 19055562205.2881 - val_loss: 20593852416.0000\n",
            "Epoch 297/400\n",
            "117/117 [==============================] - 0s 2ms/step - loss: 18461588688.2712 - val_loss: 20602290176.0000\n",
            "Epoch 298/400\n",
            "117/117 [==============================] - 0s 2ms/step - loss: 20035143350.2373 - val_loss: 20584331264.0000\n",
            "Epoch 299/400\n",
            "117/117 [==============================] - 0s 2ms/step - loss: 19206613530.0339 - val_loss: 20568817664.0000\n",
            "Epoch 300/400\n",
            "117/117 [==============================] - 0s 2ms/step - loss: 18818375480.4068 - val_loss: 20579981312.0000\n",
            "Epoch 301/400\n",
            "117/117 [==============================] - 0s 2ms/step - loss: 19393123952.8136 - val_loss: 20552826880.0000\n",
            "Epoch 302/400\n",
            "117/117 [==============================] - 0s 2ms/step - loss: 19425495959.8644 - val_loss: 20583368704.0000\n",
            "Epoch 303/400\n",
            "117/117 [==============================] - 0s 2ms/step - loss: 18897301096.1356 - val_loss: 20548646912.0000\n",
            "Epoch 304/400\n",
            "117/117 [==============================] - 0s 2ms/step - loss: 18460563707.6610 - val_loss: 20519079936.0000\n",
            "Epoch 305/400\n",
            "117/117 [==============================] - 0s 2ms/step - loss: 19914674748.7458 - val_loss: 20512049152.0000\n",
            "Epoch 306/400\n",
            "117/117 [==============================] - 0s 2ms/step - loss: 19252860737.0847 - val_loss: 20506703872.0000\n",
            "Epoch 307/400\n",
            "117/117 [==============================] - 0s 2ms/step - loss: 18991584412.2034 - val_loss: 20540461056.0000\n",
            "Epoch 308/400\n",
            "117/117 [==============================] - 0s 2ms/step - loss: 19790797702.5085 - val_loss: 20492214272.0000\n",
            "Epoch 309/400\n",
            "117/117 [==============================] - 0s 2ms/step - loss: 18565698160.8136 - val_loss: 20479866880.0000\n",
            "Epoch 310/400\n",
            "117/117 [==============================] - 0s 2ms/step - loss: 19245145174.7797 - val_loss: 20462735360.0000\n",
            "Epoch 311/400\n",
            "117/117 [==============================] - 0s 2ms/step - loss: 19470163169.6271 - val_loss: 20496228352.0000\n",
            "Epoch 312/400\n",
            "117/117 [==============================] - 0s 2ms/step - loss: 20172013238.2373 - val_loss: 20449382400.0000\n",
            "Epoch 313/400\n",
            "117/117 [==============================] - 0s 2ms/step - loss: 19056406180.8814 - val_loss: 20434393088.0000\n",
            "Epoch 314/400\n",
            "117/117 [==============================] - 0s 2ms/step - loss: 19176495685.4237 - val_loss: 20470185984.0000\n",
            "Epoch 315/400\n",
            "117/117 [==============================] - 0s 3ms/step - loss: 18445445007.1864 - val_loss: 20416368640.0000\n",
            "Epoch 316/400\n",
            "117/117 [==============================] - 0s 2ms/step - loss: 19392274189.0169 - val_loss: 20415811584.0000\n",
            "Epoch 317/400\n",
            "117/117 [==============================] - 0s 2ms/step - loss: 19418527622.5085 - val_loss: 20427833344.0000\n",
            "Epoch 318/400\n",
            "117/117 [==============================] - 0s 2ms/step - loss: 18953018159.7288 - val_loss: 20401000448.0000\n",
            "Epoch 319/400\n",
            "117/117 [==============================] - 0s 2ms/step - loss: 18655740173.0169 - val_loss: 20382695424.0000\n",
            "Epoch 320/400\n",
            "117/117 [==============================] - 0s 2ms/step - loss: 19074146295.3220 - val_loss: 20416874496.0000\n",
            "Epoch 321/400\n",
            "117/117 [==============================] - 0s 2ms/step - loss: 19574395808.5424 - val_loss: 20394573824.0000\n",
            "Epoch 322/400\n",
            "117/117 [==============================] - 0s 2ms/step - loss: 19078847774.3729 - val_loss: 20355921920.0000\n",
            "Epoch 323/400\n",
            "117/117 [==============================] - 0s 2ms/step - loss: 19234288674.7119 - val_loss: 20575416320.0000\n",
            "Epoch 324/400\n",
            "117/117 [==============================] - 0s 2ms/step - loss: 20073849022.9153 - val_loss: 20345303040.0000\n",
            "Epoch 325/400\n",
            "117/117 [==============================] - 0s 2ms/step - loss: 19631194337.6271 - val_loss: 20384423936.0000\n",
            "Epoch 326/400\n",
            "117/117 [==============================] - 0s 2ms/step - loss: 19325835854.1017 - val_loss: 20337829888.0000\n",
            "Epoch 327/400\n",
            "117/117 [==============================] - 0s 2ms/step - loss: 18723371216.2712 - val_loss: 20316553216.0000\n",
            "Epoch 328/400\n",
            "117/117 [==============================] - 0s 2ms/step - loss: 19401999707.1186 - val_loss: 20292685824.0000\n",
            "Epoch 329/400\n",
            "117/117 [==============================] - 0s 2ms/step - loss: 19254383130.0339 - val_loss: 20293863424.0000\n",
            "Epoch 330/400\n",
            "117/117 [==============================] - 0s 2ms/step - loss: 18955915515.6610 - val_loss: 20369866752.0000\n",
            "Epoch 331/400\n",
            "117/117 [==============================] - 0s 2ms/step - loss: 19534527852.4746 - val_loss: 20250437632.0000\n",
            "Epoch 332/400\n",
            "117/117 [==============================] - 0s 2ms/step - loss: 19212322937.4915 - val_loss: 20250691584.0000\n",
            "Epoch 333/400\n",
            "117/117 [==============================] - 0s 2ms/step - loss: 19401661613.5593 - val_loss: 20228495360.0000\n",
            "Epoch 334/400\n",
            "117/117 [==============================] - 0s 2ms/step - loss: 20107096758.2373 - val_loss: 20214120448.0000\n",
            "Epoch 335/400\n",
            "117/117 [==============================] - 0s 2ms/step - loss: 19506838927.1864 - val_loss: 20213393408.0000\n",
            "Epoch 336/400\n",
            "117/117 [==============================] - 0s 2ms/step - loss: 19277748111.1864 - val_loss: 20177838080.0000\n",
            "Epoch 337/400\n",
            "117/117 [==============================] - 0s 2ms/step - loss: 18849080207.1864 - val_loss: 20307816448.0000\n",
            "Epoch 338/400\n",
            "117/117 [==============================] - 0s 2ms/step - loss: 18823882274.7119 - val_loss: 20152993792.0000\n",
            "Epoch 339/400\n",
            "117/117 [==============================] - 0s 2ms/step - loss: 19155245802.3051 - val_loss: 20155930624.0000\n",
            "Epoch 340/400\n",
            "117/117 [==============================] - 0s 2ms/step - loss: 18882511420.7458 - val_loss: 20131121152.0000\n",
            "Epoch 341/400\n",
            "117/117 [==============================] - 0s 2ms/step - loss: 18883659975.5932 - val_loss: 20120027136.0000\n",
            "Epoch 342/400\n",
            "117/117 [==============================] - 0s 2ms/step - loss: 19546666010.0339 - val_loss: 20115931136.0000\n",
            "Epoch 343/400\n",
            "117/117 [==============================] - 0s 2ms/step - loss: 18763693264.2712 - val_loss: 20103294976.0000\n",
            "Epoch 344/400\n",
            "117/117 [==============================] - 0s 2ms/step - loss: 19300614048.5424 - val_loss: 20133658624.0000\n",
            "Epoch 345/400\n",
            "117/117 [==============================] - 0s 2ms/step - loss: 19154085566.9153 - val_loss: 20171366400.0000\n",
            "Epoch 346/400\n",
            "117/117 [==============================] - 0s 2ms/step - loss: 18843515678.3729 - val_loss: 20053567488.0000\n",
            "Epoch 347/400\n",
            "117/117 [==============================] - 0s 2ms/step - loss: 18786587057.8983 - val_loss: 20039333888.0000\n",
            "Epoch 348/400\n",
            "117/117 [==============================] - 0s 2ms/step - loss: 19342606249.2203 - val_loss: 20050700288.0000\n",
            "Epoch 349/400\n",
            "117/117 [==============================] - 0s 2ms/step - loss: 18753363048.1356 - val_loss: 20023271424.0000\n",
            "Epoch 350/400\n",
            "117/117 [==============================] - 0s 2ms/step - loss: 18856959097.4915 - val_loss: 20008781824.0000\n",
            "Epoch 351/400\n",
            "117/117 [==============================] - 0s 2ms/step - loss: 18869513493.6949 - val_loss: 19998912512.0000\n",
            "Epoch 352/400\n",
            "117/117 [==============================] - 0s 2ms/step - loss: 18455636436.6102 - val_loss: 20044337152.0000\n",
            "Epoch 353/400\n",
            "117/117 [==============================] - 0s 2ms/step - loss: 18752005258.8475 - val_loss: 20067778560.0000\n",
            "Epoch 354/400\n",
            "117/117 [==============================] - 0s 2ms/step - loss: 18936786162.9831 - val_loss: 20040364032.0000\n",
            "Epoch 355/400\n",
            "117/117 [==============================] - 0s 2ms/step - loss: 19214443094.7797 - val_loss: 20070264832.0000\n",
            "Epoch 356/400\n",
            "117/117 [==============================] - 0s 2ms/step - loss: 19099893482.3051 - val_loss: 19932254208.0000\n",
            "Epoch 357/400\n",
            "117/117 [==============================] - 0s 2ms/step - loss: 19095634614.2373 - val_loss: 20015921152.0000\n",
            "Epoch 358/400\n",
            "117/117 [==============================] - 0s 2ms/step - loss: 18848920758.2373 - val_loss: 20030543872.0000\n",
            "Epoch 359/400\n",
            "117/117 [==============================] - 0s 2ms/step - loss: 19097037181.8305 - val_loss: 19915010048.0000\n",
            "Epoch 360/400\n",
            "117/117 [==============================] - 0s 2ms/step - loss: 18862174503.0508 - val_loss: 19905730560.0000\n",
            "Epoch 361/400\n",
            "117/117 [==============================] - 0s 2ms/step - loss: 18551534027.9322 - val_loss: 19892344832.0000\n",
            "Epoch 362/400\n",
            "117/117 [==============================] - 0s 2ms/step - loss: 18618706423.3220 - val_loss: 19887218688.0000\n",
            "Epoch 363/400\n",
            "117/117 [==============================] - 0s 2ms/step - loss: 19544194638.1017 - val_loss: 19867586560.0000\n",
            "Epoch 364/400\n",
            "117/117 [==============================] - 0s 2ms/step - loss: 18768041012.0678 - val_loss: 19877169152.0000\n",
            "Epoch 365/400\n",
            "117/117 [==============================] - 0s 2ms/step - loss: 18583745761.6271 - val_loss: 19855941632.0000\n",
            "Epoch 366/400\n",
            "117/117 [==============================] - 0s 2ms/step - loss: 19342617183.4576 - val_loss: 19883331584.0000\n",
            "Epoch 367/400\n",
            "117/117 [==============================] - 0s 2ms/step - loss: 18916358751.4576 - val_loss: 19835105280.0000\n",
            "Epoch 368/400\n",
            "117/117 [==============================] - 0s 2ms/step - loss: 18711513114.0339 - val_loss: 19848251392.0000\n",
            "Epoch 369/400\n",
            "117/117 [==============================] - 0s 2ms/step - loss: 19133485559.3220 - val_loss: 19812730880.0000\n",
            "Epoch 370/400\n",
            "117/117 [==============================] - 0s 3ms/step - loss: 18907872915.5254 - val_loss: 19800870912.0000\n",
            "Epoch 371/400\n",
            "117/117 [==============================] - 0s 2ms/step - loss: 18746805690.5763 - val_loss: 19862026240.0000\n",
            "Epoch 372/400\n",
            "117/117 [==============================] - 0s 2ms/step - loss: 18905823023.7288 - val_loss: 19790016512.0000\n",
            "Epoch 373/400\n",
            "117/117 [==============================] - 0s 2ms/step - loss: 18725237890.1695 - val_loss: 19780362240.0000\n",
            "Epoch 374/400\n",
            "117/117 [==============================] - 0s 2ms/step - loss: 18695063647.4576 - val_loss: 19774156800.0000\n",
            "Epoch 375/400\n",
            "117/117 [==============================] - 0s 2ms/step - loss: 19377438112.5424 - val_loss: 19794323456.0000\n",
            "Epoch 376/400\n",
            "117/117 [==============================] - 0s 2ms/step - loss: 19104891452.7458 - val_loss: 19769268224.0000\n",
            "Epoch 377/400\n",
            "117/117 [==============================] - 0s 2ms/step - loss: 19084912882.9831 - val_loss: 19760951296.0000\n",
            "Epoch 378/400\n",
            "117/117 [==============================] - 0s 2ms/step - loss: 19008069371.6610 - val_loss: 19733805056.0000\n",
            "Epoch 379/400\n",
            "117/117 [==============================] - 0s 2ms/step - loss: 18487818725.9661 - val_loss: 19777861632.0000\n",
            "Epoch 380/400\n",
            "117/117 [==============================] - 0s 2ms/step - loss: 18688202370.1695 - val_loss: 19714471936.0000\n",
            "Epoch 381/400\n",
            "117/117 [==============================] - 0s 2ms/step - loss: 18526324067.7966 - val_loss: 19739893760.0000\n",
            "Epoch 382/400\n",
            "117/117 [==============================] - 0s 2ms/step - loss: 18878703043.2542 - val_loss: 19713069056.0000\n",
            "Epoch 383/400\n",
            "117/117 [==============================] - 0s 2ms/step - loss: 18535001018.5763 - val_loss: 19714768896.0000\n",
            "Epoch 384/400\n",
            "117/117 [==============================] - 0s 2ms/step - loss: 19086837482.3051 - val_loss: 19698792448.0000\n",
            "Epoch 385/400\n",
            "117/117 [==============================] - 0s 2ms/step - loss: 18397446742.7797 - val_loss: 19680102400.0000\n",
            "Epoch 386/400\n",
            "117/117 [==============================] - 0s 2ms/step - loss: 18397951357.8305 - val_loss: 19680503808.0000\n",
            "Epoch 387/400\n",
            "117/117 [==============================] - 0s 2ms/step - loss: 18500715823.7288 - val_loss: 19664670720.0000\n",
            "Epoch 388/400\n",
            "117/117 [==============================] - 0s 2ms/step - loss: 18118458932.0678 - val_loss: 19667230720.0000\n",
            "Epoch 389/400\n",
            "117/117 [==============================] - 0s 2ms/step - loss: 19123347855.1864 - val_loss: 19636127744.0000\n",
            "Epoch 390/400\n",
            "117/117 [==============================] - 0s 2ms/step - loss: 18205021539.7966 - val_loss: 19697543168.0000\n",
            "Epoch 391/400\n",
            "117/117 [==============================] - 0s 2ms/step - loss: 18947827607.8644 - val_loss: 19633424384.0000\n",
            "Epoch 392/400\n",
            "117/117 [==============================] - 0s 2ms/step - loss: 19339931908.3390 - val_loss: 19615266816.0000\n",
            "Epoch 393/400\n",
            "117/117 [==============================] - 0s 2ms/step - loss: 18254405362.9831 - val_loss: 19653541888.0000\n",
            "Epoch 394/400\n",
            "117/117 [==============================] - 0s 2ms/step - loss: 18989715369.2203 - val_loss: 19631990784.0000\n",
            "Epoch 395/400\n",
            "117/117 [==============================] - 0s 2ms/step - loss: 18249122034.9831 - val_loss: 19621853184.0000\n",
            "Epoch 396/400\n",
            "117/117 [==============================] - 0s 2ms/step - loss: 18842417603.2542 - val_loss: 19589625856.0000\n",
            "Epoch 397/400\n",
            "117/117 [==============================] - 0s 2ms/step - loss: 18492352685.5593 - val_loss: 19692793856.0000\n",
            "Epoch 398/400\n",
            "117/117 [==============================] - 0s 2ms/step - loss: 18480552066.1695 - val_loss: 19585974272.0000\n",
            "Epoch 399/400\n",
            "117/117 [==============================] - 0s 2ms/step - loss: 18051471655.0508 - val_loss: 19571640320.0000\n",
            "Epoch 400/400\n",
            "117/117 [==============================] - 0s 2ms/step - loss: 18973521347.2542 - val_loss: 19577186304.0000\n"
          ],
          "name": "stdout"
        },
        {
          "output_type": "execute_result",
          "data": {
            "text/plain": [
              "<tensorflow.python.keras.callbacks.History at 0x7f006e8b9550>"
            ]
          },
          "metadata": {
            "tags": []
          },
          "execution_count": 86
        }
      ]
    },
    {
      "cell_type": "markdown",
      "metadata": {
        "id": "c85DHp7nGD6J"
      },
      "source": [
        "# Evaluation"
      ]
    },
    {
      "cell_type": "markdown",
      "metadata": {
        "id": "N0XcKHkTGFVP"
      },
      "source": [
        "## Loss History"
      ]
    },
    {
      "cell_type": "code",
      "metadata": {
        "colab": {
          "base_uri": "https://localhost:8080/"
        },
        "id": "Ye_v1VnkJn19",
        "outputId": "14e9422d-d2bf-4858-d36a-424ca1e37e9f"
      },
      "source": [
        "model.history.history"
      ],
      "execution_count": 87,
      "outputs": [
        {
          "output_type": "execute_result",
          "data": {
            "text/plain": [
              "{'loss': [347754070016.0,\n",
              "  345912311808.0,\n",
              "  319026790400.0,\n",
              "  203610423296.0,\n",
              "  73272434688.0,\n",
              "  54193389568.0,\n",
              "  53097390080.0,\n",
              "  52032614400.0,\n",
              "  50949107712.0,\n",
              "  49843408896.0,\n",
              "  48697188352.0,\n",
              "  47555203072.0,\n",
              "  46352601088.0,\n",
              "  45140750336.0,\n",
              "  43886297088.0,\n",
              "  42628337664.0,\n",
              "  41322225664.0,\n",
              "  40016162816.0,\n",
              "  38704914432.0,\n",
              "  37390807040.0,\n",
              "  36104982528.0,\n",
              "  34846138368.0,\n",
              "  33650761728.0,\n",
              "  32552548352.0,\n",
              "  31518855168.0,\n",
              "  30576680960.0,\n",
              "  29738977280.0,\n",
              "  28992688128.0,\n",
              "  28305303552.0,\n",
              "  27695564800.0,\n",
              "  27174303744.0,\n",
              "  26655113216.0,\n",
              "  26218790912.0,\n",
              "  25849952256.0,\n",
              "  25487761408.0,\n",
              "  25176606720.0,\n",
              "  24945598464.0,\n",
              "  24676069376.0,\n",
              "  24462071808.0,\n",
              "  24273926144.0,\n",
              "  24101345280.0,\n",
              "  23959382016.0,\n",
              "  23828174848.0,\n",
              "  23708379136.0,\n",
              "  23554711552.0,\n",
              "  23439630336.0,\n",
              "  23328735232.0,\n",
              "  23203774464.0,\n",
              "  23114240000.0,\n",
              "  23022321664.0,\n",
              "  22967236608.0,\n",
              "  22854170624.0,\n",
              "  22786951168.0,\n",
              "  22683834368.0,\n",
              "  22586269696.0,\n",
              "  22522507264.0,\n",
              "  22416764928.0,\n",
              "  22360944640.0,\n",
              "  22285174784.0,\n",
              "  22229948416.0,\n",
              "  22124122112.0,\n",
              "  22086199296.0,\n",
              "  22079842304.0,\n",
              "  21962412032.0,\n",
              "  21922764800.0,\n",
              "  21866987520.0,\n",
              "  21808228352.0,\n",
              "  21777868800.0,\n",
              "  21723459584.0,\n",
              "  21677127680.0,\n",
              "  21628594176.0,\n",
              "  21567674368.0,\n",
              "  21522745344.0,\n",
              "  21479329792.0,\n",
              "  21444501504.0,\n",
              "  21423552512.0,\n",
              "  21378078720.0,\n",
              "  21350582272.0,\n",
              "  21308416000.0,\n",
              "  21284349952.0,\n",
              "  21256759296.0,\n",
              "  21230051328.0,\n",
              "  21212905472.0,\n",
              "  21171359744.0,\n",
              "  21159385088.0,\n",
              "  21112242176.0,\n",
              "  21090162688.0,\n",
              "  21069854720.0,\n",
              "  21042120704.0,\n",
              "  21032732672.0,\n",
              "  20978931712.0,\n",
              "  20990398464.0,\n",
              "  20934203392.0,\n",
              "  20918759424.0,\n",
              "  20889024512.0,\n",
              "  20865931264.0,\n",
              "  20844881920.0,\n",
              "  20828743680.0,\n",
              "  20801824768.0,\n",
              "  20803487744.0,\n",
              "  20754282496.0,\n",
              "  20743966720.0,\n",
              "  20741281792.0,\n",
              "  20706478080.0,\n",
              "  20704493568.0,\n",
              "  20672512000.0,\n",
              "  20630595584.0,\n",
              "  20622716928.0,\n",
              "  20643284992.0,\n",
              "  20614285312.0,\n",
              "  20592902144.0,\n",
              "  20588150784.0,\n",
              "  20572284928.0,\n",
              "  20566841344.0,\n",
              "  20541061120.0,\n",
              "  20528064512.0,\n",
              "  20537044992.0,\n",
              "  20500441088.0,\n",
              "  20499273728.0,\n",
              "  20470429696.0,\n",
              "  20461971456.0,\n",
              "  20458262528.0,\n",
              "  20455190528.0,\n",
              "  20433786880.0,\n",
              "  20422297600.0,\n",
              "  20412921856.0,\n",
              "  20400361472.0,\n",
              "  20377673728.0,\n",
              "  20388063232.0,\n",
              "  20371152896.0,\n",
              "  20351340544.0,\n",
              "  20351131648.0,\n",
              "  20332464128.0,\n",
              "  20358139904.0,\n",
              "  20323700736.0,\n",
              "  20299364352.0,\n",
              "  20304416768.0,\n",
              "  20292524032.0,\n",
              "  20296603648.0,\n",
              "  20302258176.0,\n",
              "  20270628864.0,\n",
              "  20271710208.0,\n",
              "  20263727104.0,\n",
              "  20243685376.0,\n",
              "  20243576832.0,\n",
              "  20226023424.0,\n",
              "  20225560576.0,\n",
              "  20254830592.0,\n",
              "  20220495872.0,\n",
              "  20200724480.0,\n",
              "  20185544704.0,\n",
              "  20193992704.0,\n",
              "  20208197632.0,\n",
              "  20181430272.0,\n",
              "  20169682944.0,\n",
              "  20165314560.0,\n",
              "  20140255232.0,\n",
              "  20137865216.0,\n",
              "  20138414080.0,\n",
              "  20126662656.0,\n",
              "  20133423104.0,\n",
              "  20142589952.0,\n",
              "  20111845376.0,\n",
              "  20120459264.0,\n",
              "  20099241984.0,\n",
              "  20104167424.0,\n",
              "  20085544960.0,\n",
              "  20083202048.0,\n",
              "  20045199360.0,\n",
              "  20078921728.0,\n",
              "  20066166784.0,\n",
              "  20049496064.0,\n",
              "  20049152000.0,\n",
              "  20037718016.0,\n",
              "  20028940288.0,\n",
              "  20031973376.0,\n",
              "  20012361728.0,\n",
              "  20017178624.0,\n",
              "  20014204928.0,\n",
              "  20013486080.0,\n",
              "  20029157376.0,\n",
              "  20007839744.0,\n",
              "  20010764288.0,\n",
              "  20001521664.0,\n",
              "  19997849600.0,\n",
              "  19993731072.0,\n",
              "  19997396992.0,\n",
              "  19951202304.0,\n",
              "  19988244480.0,\n",
              "  19978938368.0,\n",
              "  19991154688.0,\n",
              "  19962658816.0,\n",
              "  19944994816.0,\n",
              "  19945316352.0,\n",
              "  19959046144.0,\n",
              "  19926855680.0,\n",
              "  19940925440.0,\n",
              "  19923255296.0,\n",
              "  19931324416.0,\n",
              "  19929800704.0,\n",
              "  19897362432.0,\n",
              "  19949457408.0,\n",
              "  19905632256.0,\n",
              "  19904192512.0,\n",
              "  19883888640.0,\n",
              "  19887218688.0,\n",
              "  19883288576.0,\n",
              "  19880179712.0,\n",
              "  19871471616.0,\n",
              "  19873554432.0,\n",
              "  19885252608.0,\n",
              "  19890696192.0,\n",
              "  19858214912.0,\n",
              "  19863513088.0,\n",
              "  19839301632.0,\n",
              "  19853504512.0,\n",
              "  19838578688.0,\n",
              "  19842758656.0,\n",
              "  19824011264.0,\n",
              "  19831412736.0,\n",
              "  19835070464.0,\n",
              "  19836239872.0,\n",
              "  19830671360.0,\n",
              "  19821447168.0,\n",
              "  19807737856.0,\n",
              "  19812464640.0,\n",
              "  19806668800.0,\n",
              "  19791278080.0,\n",
              "  19791611904.0,\n",
              "  19798241280.0,\n",
              "  19793729536.0,\n",
              "  19760013312.0,\n",
              "  19759902720.0,\n",
              "  19802669056.0,\n",
              "  19797467136.0,\n",
              "  19799513088.0,\n",
              "  19756269568.0,\n",
              "  19769579520.0,\n",
              "  19747721216.0,\n",
              "  19758798848.0,\n",
              "  19746377728.0,\n",
              "  19742783488.0,\n",
              "  19737085952.0,\n",
              "  19729391616.0,\n",
              "  19725596672.0,\n",
              "  19713085440.0,\n",
              "  19722192896.0,\n",
              "  19703312384.0,\n",
              "  19708030976.0,\n",
              "  19712622592.0,\n",
              "  19725301760.0,\n",
              "  19697725440.0,\n",
              "  19688767488.0,\n",
              "  19690414080.0,\n",
              "  19677810688.0,\n",
              "  19673157632.0,\n",
              "  19669284864.0,\n",
              "  19669096448.0,\n",
              "  19689871360.0,\n",
              "  19672049664.0,\n",
              "  19654391808.0,\n",
              "  19648374784.0,\n",
              "  19683346432.0,\n",
              "  19667132416.0,\n",
              "  19647807488.0,\n",
              "  19666753536.0,\n",
              "  19627288576.0,\n",
              "  19627636736.0,\n",
              "  19623520256.0,\n",
              "  19618656256.0,\n",
              "  19626860544.0,\n",
              "  19618695168.0,\n",
              "  19617327104.0,\n",
              "  19601721344.0,\n",
              "  19623280640.0,\n",
              "  19585212416.0,\n",
              "  19590979584.0,\n",
              "  19581261824.0,\n",
              "  19594584064.0,\n",
              "  19581847552.0,\n",
              "  19613913088.0,\n",
              "  19573295104.0,\n",
              "  19581652992.0,\n",
              "  19564941312.0,\n",
              "  19542149120.0,\n",
              "  19548360704.0,\n",
              "  19540316160.0,\n",
              "  19514558464.0,\n",
              "  19514755072.0,\n",
              "  19509698560.0,\n",
              "  19536424960.0,\n",
              "  19501864960.0,\n",
              "  19526440960.0,\n",
              "  19514406912.0,\n",
              "  19485609984.0,\n",
              "  19473115136.0,\n",
              "  19487434752.0,\n",
              "  19492667392.0,\n",
              "  19450021888.0,\n",
              "  19435960320.0,\n",
              "  19431596032.0,\n",
              "  19442710528.0,\n",
              "  19433971712.0,\n",
              "  19410573312.0,\n",
              "  19395995648.0,\n",
              "  19403665408.0,\n",
              "  19379750912.0,\n",
              "  19394803712.0,\n",
              "  19373780992.0,\n",
              "  19378413568.0,\n",
              "  19345274880.0,\n",
              "  19373516800.0,\n",
              "  19374039040.0,\n",
              "  19315515392.0,\n",
              "  19310616576.0,\n",
              "  19307096064.0,\n",
              "  19297957888.0,\n",
              "  19300663296.0,\n",
              "  19280408576.0,\n",
              "  19266416640.0,\n",
              "  19266545664.0,\n",
              "  19269724160.0,\n",
              "  19250282496.0,\n",
              "  19239475200.0,\n",
              "  19237509120.0,\n",
              "  19219468288.0,\n",
              "  19209469952.0,\n",
              "  19202936832.0,\n",
              "  19194462208.0,\n",
              "  19178919936.0,\n",
              "  19205529600.0,\n",
              "  19159279616.0,\n",
              "  19161264128.0,\n",
              "  19148617728.0,\n",
              "  19143626752.0,\n",
              "  19182671872.0,\n",
              "  19119257600.0,\n",
              "  19115077632.0,\n",
              "  19095732224.0,\n",
              "  19088277504.0,\n",
              "  19061960704.0,\n",
              "  19060297728.0,\n",
              "  19060426752.0,\n",
              "  19035848704.0,\n",
              "  19034466304.0,\n",
              "  19045521408.0,\n",
              "  19025600512.0,\n",
              "  19005341696.0,\n",
              "  18996307968.0,\n",
              "  18984421376.0,\n",
              "  18982645760.0,\n",
              "  19000154112.0,\n",
              "  18940514304.0,\n",
              "  18949050368.0,\n",
              "  18940538880.0,\n",
              "  18940467200.0,\n",
              "  18932324352.0,\n",
              "  18928560128.0,\n",
              "  18900312064.0,\n",
              "  18889066496.0,\n",
              "  18895607808.0,\n",
              "  18876571648.0,\n",
              "  18891253760.0,\n",
              "  18861332480.0,\n",
              "  18853144576.0,\n",
              "  18848010240.0,\n",
              "  18836654080.0,\n",
              "  18813712384.0,\n",
              "  18846416896.0,\n",
              "  18818060288.0,\n",
              "  18795057152.0,\n",
              "  18802782208.0,\n",
              "  18786105344.0,\n",
              "  18787244032.0,\n",
              "  18788442112.0,\n",
              "  18786095104.0,\n",
              "  18780387328.0,\n",
              "  18759155712.0,\n",
              "  18743590912.0,\n",
              "  18738622464.0,\n",
              "  18734522368.0,\n",
              "  18733142016.0,\n",
              "  18706350080.0,\n",
              "  18705383424.0,\n",
              "  18689349632.0,\n",
              "  18697017344.0,\n",
              "  18683807744.0,\n",
              "  18665820160.0,\n",
              "  18702870528.0,\n",
              "  18663888896.0,\n",
              "  18656538624.0,\n",
              "  18650058752.0,\n",
              "  18663184384.0,\n",
              "  18624966656.0,\n",
              "  18648543232.0,\n",
              "  18648317952.0,\n",
              "  18632480768.0,\n",
              "  18624028672.0,\n",
              "  18617001984.0,\n",
              "  18608846848.0],\n",
              " 'val_loss': [354744205312.0,\n",
              "  348087713792.0,\n",
              "  286256005120.0,\n",
              "  122550165504.0,\n",
              "  57595305984.0,\n",
              "  55892377600.0,\n",
              "  54825340928.0,\n",
              "  53726199808.0,\n",
              "  52577673216.0,\n",
              "  51435356160.0,\n",
              "  50267828224.0,\n",
              "  49122959360.0,\n",
              "  47824547840.0,\n",
              "  46537486336.0,\n",
              "  45258784768.0,\n",
              "  43940343808.0,\n",
              "  42591948800.0,\n",
              "  41258037248.0,\n",
              "  39895449600.0,\n",
              "  38515691520.0,\n",
              "  37198970880.0,\n",
              "  35932479488.0,\n",
              "  34729758720.0,\n",
              "  33633269760.0,\n",
              "  32652591104.0,\n",
              "  31712774144.0,\n",
              "  30965811200.0,\n",
              "  30213748736.0,\n",
              "  29511936000.0,\n",
              "  28914110464.0,\n",
              "  28451166208.0,\n",
              "  27932895232.0,\n",
              "  27508713472.0,\n",
              "  27145183232.0,\n",
              "  26865135616.0,\n",
              "  26669076480.0,\n",
              "  26257039360.0,\n",
              "  26034251776.0,\n",
              "  25834213376.0,\n",
              "  25656668160.0,\n",
              "  25508808704.0,\n",
              "  25311983616.0,\n",
              "  25180520448.0,\n",
              "  25006014464.0,\n",
              "  24915300352.0,\n",
              "  24756197376.0,\n",
              "  24602093568.0,\n",
              "  24524001280.0,\n",
              "  24422629376.0,\n",
              "  24290560000.0,\n",
              "  24195117056.0,\n",
              "  24095094784.0,\n",
              "  23994462208.0,\n",
              "  23886571520.0,\n",
              "  23780472832.0,\n",
              "  23685922816.0,\n",
              "  23685650432.0,\n",
              "  23510478848.0,\n",
              "  23496579072.0,\n",
              "  23347873792.0,\n",
              "  23325491200.0,\n",
              "  23235328000.0,\n",
              "  23144468480.0,\n",
              "  23100592128.0,\n",
              "  23019313152.0,\n",
              "  22967660544.0,\n",
              "  22971113472.0,\n",
              "  22873884672.0,\n",
              "  22794231808.0,\n",
              "  22798903296.0,\n",
              "  22678949888.0,\n",
              "  22666074112.0,\n",
              "  22588715008.0,\n",
              "  22532075520.0,\n",
              "  22491389952.0,\n",
              "  22452402176.0,\n",
              "  22482161664.0,\n",
              "  22411941888.0,\n",
              "  22352209920.0,\n",
              "  22317858816.0,\n",
              "  22296231936.0,\n",
              "  22261295104.0,\n",
              "  22235148288.0,\n",
              "  22206642176.0,\n",
              "  22160814080.0,\n",
              "  22132017152.0,\n",
              "  22129170432.0,\n",
              "  22088863744.0,\n",
              "  22052993024.0,\n",
              "  22026954752.0,\n",
              "  22154708992.0,\n",
              "  21974081536.0,\n",
              "  21957693440.0,\n",
              "  21925660672.0,\n",
              "  21899980800.0,\n",
              "  21875316736.0,\n",
              "  21847969792.0,\n",
              "  21825017856.0,\n",
              "  21828028416.0,\n",
              "  21808326656.0,\n",
              "  21767032832.0,\n",
              "  21735684096.0,\n",
              "  21745422336.0,\n",
              "  21698129920.0,\n",
              "  21782585344.0,\n",
              "  21668206592.0,\n",
              "  21652467712.0,\n",
              "  21723019264.0,\n",
              "  21626017792.0,\n",
              "  21700853760.0,\n",
              "  21620443136.0,\n",
              "  21583812608.0,\n",
              "  21723500544.0,\n",
              "  21561419776.0,\n",
              "  21548503040.0,\n",
              "  21533339648.0,\n",
              "  21552504832.0,\n",
              "  21570244608.0,\n",
              "  21511239680.0,\n",
              "  21517969408.0,\n",
              "  21553301504.0,\n",
              "  21464793088.0,\n",
              "  21464502272.0,\n",
              "  21456140288.0,\n",
              "  21440718848.0,\n",
              "  21489696768.0,\n",
              "  21576185856.0,\n",
              "  21426075648.0,\n",
              "  21408169984.0,\n",
              "  21424062464.0,\n",
              "  21415618560.0,\n",
              "  21378598912.0,\n",
              "  21392216064.0,\n",
              "  21397256192.0,\n",
              "  21357635584.0,\n",
              "  21348284416.0,\n",
              "  21353082880.0,\n",
              "  21360965632.0,\n",
              "  21454006272.0,\n",
              "  21337049088.0,\n",
              "  21318123520.0,\n",
              "  21313566720.0,\n",
              "  21308557312.0,\n",
              "  21336262656.0,\n",
              "  21292095488.0,\n",
              "  21315190784.0,\n",
              "  21310980096.0,\n",
              "  21289246720.0,\n",
              "  21269356544.0,\n",
              "  21267922944.0,\n",
              "  21355151360.0,\n",
              "  21264760832.0,\n",
              "  21249079296.0,\n",
              "  21246599168.0,\n",
              "  21236682752.0,\n",
              "  21267427328.0,\n",
              "  21228744704.0,\n",
              "  21233053696.0,\n",
              "  21224699904.0,\n",
              "  21215916032.0,\n",
              "  21216303104.0,\n",
              "  21203521536.0,\n",
              "  21230223360.0,\n",
              "  21194022912.0,\n",
              "  21216933888.0,\n",
              "  21189234688.0,\n",
              "  21180983296.0,\n",
              "  21232371712.0,\n",
              "  21298116608.0,\n",
              "  21162295296.0,\n",
              "  21157027840.0,\n",
              "  21158727680.0,\n",
              "  21151053824.0,\n",
              "  21156311040.0,\n",
              "  21137569792.0,\n",
              "  21154320384.0,\n",
              "  21138696192.0,\n",
              "  21126608896.0,\n",
              "  21125568512.0,\n",
              "  21114353664.0,\n",
              "  21112905728.0,\n",
              "  21120770048.0,\n",
              "  21122521088.0,\n",
              "  21102096384.0,\n",
              "  21114996736.0,\n",
              "  21107658752.0,\n",
              "  21093060608.0,\n",
              "  21151971328.0,\n",
              "  21077970944.0,\n",
              "  21079203840.0,\n",
              "  21069465600.0,\n",
              "  21077712896.0,\n",
              "  21072105472.0,\n",
              "  21065973760.0,\n",
              "  21065580544.0,\n",
              "  21052297216.0,\n",
              "  21059956736.0,\n",
              "  21038854144.0,\n",
              "  21037068288.0,\n",
              "  21033691136.0,\n",
              "  21037428736.0,\n",
              "  21028777984.0,\n",
              "  21031290880.0,\n",
              "  21019404288.0,\n",
              "  21039898624.0,\n",
              "  21040807936.0,\n",
              "  21053370368.0,\n",
              "  21038129152.0,\n",
              "  21033334784.0,\n",
              "  21043294208.0,\n",
              "  21004464128.0,\n",
              "  20997382144.0,\n",
              "  20993677312.0,\n",
              "  20980889600.0,\n",
              "  20975650816.0,\n",
              "  20977903616.0,\n",
              "  20982874112.0,\n",
              "  20960962560.0,\n",
              "  21036042240.0,\n",
              "  20951945216.0,\n",
              "  20963741696.0,\n",
              "  20958302208.0,\n",
              "  20952047616.0,\n",
              "  20991211520.0,\n",
              "  20935356416.0,\n",
              "  20960540672.0,\n",
              "  20933468160.0,\n",
              "  20926670848.0,\n",
              "  20921102336.0,\n",
              "  20920346624.0,\n",
              "  20935792640.0,\n",
              "  21042393088.0,\n",
              "  21105223680.0,\n",
              "  20899966976.0,\n",
              "  20896376832.0,\n",
              "  20943292416.0,\n",
              "  20894169088.0,\n",
              "  20877778944.0,\n",
              "  20930443264.0,\n",
              "  20926156800.0,\n",
              "  20870008832.0,\n",
              "  21013796864.0,\n",
              "  20877459456.0,\n",
              "  20854579200.0,\n",
              "  20853000192.0,\n",
              "  20854749184.0,\n",
              "  20838526976.0,\n",
              "  20843714560.0,\n",
              "  20859068416.0,\n",
              "  20839139328.0,\n",
              "  20824426496.0,\n",
              "  20827432960.0,\n",
              "  20827881472.0,\n",
              "  20818468864.0,\n",
              "  20799981568.0,\n",
              "  20805627904.0,\n",
              "  20799528960.0,\n",
              "  20814254080.0,\n",
              "  20788402176.0,\n",
              "  20812591104.0,\n",
              "  20786321408.0,\n",
              "  20774635520.0,\n",
              "  20762251264.0,\n",
              "  20789114880.0,\n",
              "  20862699520.0,\n",
              "  20751648768.0,\n",
              "  20746686464.0,\n",
              "  20742508544.0,\n",
              "  20735956992.0,\n",
              "  20778948608.0,\n",
              "  20769998848.0,\n",
              "  20817539072.0,\n",
              "  20754364416.0,\n",
              "  20715958272.0,\n",
              "  20708126720.0,\n",
              "  20772044800.0,\n",
              "  20697778176.0,\n",
              "  20715139072.0,\n",
              "  20783140864.0,\n",
              "  20822646784.0,\n",
              "  20677074944.0,\n",
              "  20677558272.0,\n",
              "  20668821504.0,\n",
              "  20675702784.0,\n",
              "  20662702080.0,\n",
              "  20650237952.0,\n",
              "  20646471680.0,\n",
              "  20660199424.0,\n",
              "  20684341248.0,\n",
              "  20625569792.0,\n",
              "  20637032448.0,\n",
              "  20658075648.0,\n",
              "  20613048320.0,\n",
              "  20600279040.0,\n",
              "  20596277248.0,\n",
              "  20593852416.0,\n",
              "  20602290176.0,\n",
              "  20584331264.0,\n",
              "  20568817664.0,\n",
              "  20579981312.0,\n",
              "  20552826880.0,\n",
              "  20583368704.0,\n",
              "  20548646912.0,\n",
              "  20519079936.0,\n",
              "  20512049152.0,\n",
              "  20506703872.0,\n",
              "  20540461056.0,\n",
              "  20492214272.0,\n",
              "  20479866880.0,\n",
              "  20462735360.0,\n",
              "  20496228352.0,\n",
              "  20449382400.0,\n",
              "  20434393088.0,\n",
              "  20470185984.0,\n",
              "  20416368640.0,\n",
              "  20415811584.0,\n",
              "  20427833344.0,\n",
              "  20401000448.0,\n",
              "  20382695424.0,\n",
              "  20416874496.0,\n",
              "  20394573824.0,\n",
              "  20355921920.0,\n",
              "  20575416320.0,\n",
              "  20345303040.0,\n",
              "  20384423936.0,\n",
              "  20337829888.0,\n",
              "  20316553216.0,\n",
              "  20292685824.0,\n",
              "  20293863424.0,\n",
              "  20369866752.0,\n",
              "  20250437632.0,\n",
              "  20250691584.0,\n",
              "  20228495360.0,\n",
              "  20214120448.0,\n",
              "  20213393408.0,\n",
              "  20177838080.0,\n",
              "  20307816448.0,\n",
              "  20152993792.0,\n",
              "  20155930624.0,\n",
              "  20131121152.0,\n",
              "  20120027136.0,\n",
              "  20115931136.0,\n",
              "  20103294976.0,\n",
              "  20133658624.0,\n",
              "  20171366400.0,\n",
              "  20053567488.0,\n",
              "  20039333888.0,\n",
              "  20050700288.0,\n",
              "  20023271424.0,\n",
              "  20008781824.0,\n",
              "  19998912512.0,\n",
              "  20044337152.0,\n",
              "  20067778560.0,\n",
              "  20040364032.0,\n",
              "  20070264832.0,\n",
              "  19932254208.0,\n",
              "  20015921152.0,\n",
              "  20030543872.0,\n",
              "  19915010048.0,\n",
              "  19905730560.0,\n",
              "  19892344832.0,\n",
              "  19887218688.0,\n",
              "  19867586560.0,\n",
              "  19877169152.0,\n",
              "  19855941632.0,\n",
              "  19883331584.0,\n",
              "  19835105280.0,\n",
              "  19848251392.0,\n",
              "  19812730880.0,\n",
              "  19800870912.0,\n",
              "  19862026240.0,\n",
              "  19790016512.0,\n",
              "  19780362240.0,\n",
              "  19774156800.0,\n",
              "  19794323456.0,\n",
              "  19769268224.0,\n",
              "  19760951296.0,\n",
              "  19733805056.0,\n",
              "  19777861632.0,\n",
              "  19714471936.0,\n",
              "  19739893760.0,\n",
              "  19713069056.0,\n",
              "  19714768896.0,\n",
              "  19698792448.0,\n",
              "  19680102400.0,\n",
              "  19680503808.0,\n",
              "  19664670720.0,\n",
              "  19667230720.0,\n",
              "  19636127744.0,\n",
              "  19697543168.0,\n",
              "  19633424384.0,\n",
              "  19615266816.0,\n",
              "  19653541888.0,\n",
              "  19631990784.0,\n",
              "  19621853184.0,\n",
              "  19589625856.0,\n",
              "  19692793856.0,\n",
              "  19585974272.0,\n",
              "  19571640320.0,\n",
              "  19577186304.0]}"
            ]
          },
          "metadata": {
            "tags": []
          },
          "execution_count": 87
        }
      ]
    },
    {
      "cell_type": "code",
      "metadata": {
        "colab": {
          "base_uri": "https://localhost:8080/",
          "height": 419
        },
        "id": "ir8kJDG_Jh2v",
        "outputId": "082535c9-6969-4dd8-82b7-8f7a99d987e1"
      },
      "source": [
        "losses = pd.DataFrame(model.history.history)\r\n",
        "losses"
      ],
      "execution_count": 88,
      "outputs": [
        {
          "output_type": "execute_result",
          "data": {
            "text/html": [
              "<div>\n",
              "<style scoped>\n",
              "    .dataframe tbody tr th:only-of-type {\n",
              "        vertical-align: middle;\n",
              "    }\n",
              "\n",
              "    .dataframe tbody tr th {\n",
              "        vertical-align: top;\n",
              "    }\n",
              "\n",
              "    .dataframe thead th {\n",
              "        text-align: right;\n",
              "    }\n",
              "</style>\n",
              "<table border=\"1\" class=\"dataframe\">\n",
              "  <thead>\n",
              "    <tr style=\"text-align: right;\">\n",
              "      <th></th>\n",
              "      <th>loss</th>\n",
              "      <th>val_loss</th>\n",
              "    </tr>\n",
              "  </thead>\n",
              "  <tbody>\n",
              "    <tr>\n",
              "      <th>0</th>\n",
              "      <td>3.477541e+11</td>\n",
              "      <td>3.547442e+11</td>\n",
              "    </tr>\n",
              "    <tr>\n",
              "      <th>1</th>\n",
              "      <td>3.459123e+11</td>\n",
              "      <td>3.480877e+11</td>\n",
              "    </tr>\n",
              "    <tr>\n",
              "      <th>2</th>\n",
              "      <td>3.190268e+11</td>\n",
              "      <td>2.862560e+11</td>\n",
              "    </tr>\n",
              "    <tr>\n",
              "      <th>3</th>\n",
              "      <td>2.036104e+11</td>\n",
              "      <td>1.225502e+11</td>\n",
              "    </tr>\n",
              "    <tr>\n",
              "      <th>4</th>\n",
              "      <td>7.327243e+10</td>\n",
              "      <td>5.759531e+10</td>\n",
              "    </tr>\n",
              "    <tr>\n",
              "      <th>...</th>\n",
              "      <td>...</td>\n",
              "      <td>...</td>\n",
              "    </tr>\n",
              "    <tr>\n",
              "      <th>395</th>\n",
              "      <td>1.864832e+10</td>\n",
              "      <td>1.958963e+10</td>\n",
              "    </tr>\n",
              "    <tr>\n",
              "      <th>396</th>\n",
              "      <td>1.863248e+10</td>\n",
              "      <td>1.969279e+10</td>\n",
              "    </tr>\n",
              "    <tr>\n",
              "      <th>397</th>\n",
              "      <td>1.862403e+10</td>\n",
              "      <td>1.958597e+10</td>\n",
              "    </tr>\n",
              "    <tr>\n",
              "      <th>398</th>\n",
              "      <td>1.861700e+10</td>\n",
              "      <td>1.957164e+10</td>\n",
              "    </tr>\n",
              "    <tr>\n",
              "      <th>399</th>\n",
              "      <td>1.860885e+10</td>\n",
              "      <td>1.957719e+10</td>\n",
              "    </tr>\n",
              "  </tbody>\n",
              "</table>\n",
              "<p>400 rows × 2 columns</p>\n",
              "</div>"
            ],
            "text/plain": [
              "             loss      val_loss\n",
              "0    3.477541e+11  3.547442e+11\n",
              "1    3.459123e+11  3.480877e+11\n",
              "2    3.190268e+11  2.862560e+11\n",
              "3    2.036104e+11  1.225502e+11\n",
              "4    7.327243e+10  5.759531e+10\n",
              "..            ...           ...\n",
              "395  1.864832e+10  1.958963e+10\n",
              "396  1.863248e+10  1.969279e+10\n",
              "397  1.862403e+10  1.958597e+10\n",
              "398  1.861700e+10  1.957164e+10\n",
              "399  1.860885e+10  1.957719e+10\n",
              "\n",
              "[400 rows x 2 columns]"
            ]
          },
          "metadata": {
            "tags": []
          },
          "execution_count": 88
        }
      ]
    },
    {
      "cell_type": "code",
      "metadata": {
        "colab": {
          "base_uri": "https://localhost:8080/",
          "height": 293
        },
        "id": "RrJvF2WVJtXK",
        "outputId": "68a591a4-54dd-4a74-f50b-dfe97cd4e263"
      },
      "source": [
        "losses.plot()"
      ],
      "execution_count": 89,
      "outputs": [
        {
          "output_type": "execute_result",
          "data": {
            "text/plain": [
              "<matplotlib.axes._subplots.AxesSubplot at 0x7f006b0d0d68>"
            ]
          },
          "metadata": {
            "tags": []
          },
          "execution_count": 89
        },
        {
          "output_type": "display_data",
          "data": {
            "image/png": "[encoded data removed]",
            "text/plain": [
              "<Figure size 432x288 with 1 Axes>"
            ]
          },
          "metadata": {
            "tags": []
          }
        }
      ]
    },
    {
      "cell_type": "markdown",
      "metadata": {
        "id": "DN08qC-6GIXK"
      },
      "source": [
        "## Test Data & Metrics"
      ]
    },
    {
      "cell_type": "code",
      "metadata": {
        "id": "WPlOgrCkJxbk"
      },
      "source": [
        "from sklearn.metrics import mean_squared_error, mean_absolute_error, explained_variance_score"
      ],
      "execution_count": 90,
      "outputs": []
    },
    {
      "cell_type": "code",
      "metadata": {
        "colab": {
          "base_uri": "https://localhost:8080/"
        },
        "id": "DUDEqr0gJ-Ed",
        "outputId": "bef36e27-9601-4d15-fc4e-0aba09730092"
      },
      "source": [
        "predictions = model.predict(X_test)\r\n",
        "predictions"
      ],
      "execution_count": 92,
      "outputs": [
        {
          "output_type": "execute_result",
          "data": {
            "text/plain": [
              "array([[521464.28],\n",
              "       [641720.56],\n",
              "       [465008.47],\n",
              "       ...,\n",
              "       [273202.12],\n",
              "       [528081.4 ],\n",
              "       [480247.3 ]], dtype=float32)"
            ]
          },
          "metadata": {
            "tags": []
          },
          "execution_count": 92
        }
      ]
    },
    {
      "cell_type": "markdown",
      "metadata": {
        "id": "QhEUjyOTGL2N"
      },
      "source": [
        "### MSE"
      ]
    },
    {
      "cell_type": "code",
      "metadata": {
        "colab": {
          "base_uri": "https://localhost:8080/"
        },
        "id": "kUklbUW7J3xc",
        "outputId": "7a3920c2-76fe-4155-a0dc-9814a5b24877"
      },
      "source": [
        "mean_squared_error(y_test, predictions)"
      ],
      "execution_count": 93,
      "outputs": [
        {
          "output_type": "execute_result",
          "data": {
            "text/plain": [
              "19577184563.709644"
            ]
          },
          "metadata": {
            "tags": []
          },
          "execution_count": 93
        }
      ]
    },
    {
      "cell_type": "markdown",
      "metadata": {
        "id": "u_zWzCyrGNxN"
      },
      "source": [
        "### RMSE"
      ]
    },
    {
      "cell_type": "code",
      "metadata": {
        "colab": {
          "base_uri": "https://localhost:8080/"
        },
        "id": "uAIyuRPAKEBu",
        "outputId": "ab9e330f-78f8-4b78-c2ac-c32fdbff7132"
      },
      "source": [
        "np.sqrt(mean_squared_error(y_test, predictions))"
      ],
      "execution_count": 94,
      "outputs": [
        {
          "output_type": "execute_result",
          "data": {
            "text/plain": [
              "139918.49257231742"
            ]
          },
          "metadata": {
            "tags": []
          },
          "execution_count": 94
        }
      ]
    },
    {
      "cell_type": "markdown",
      "metadata": {
        "id": "TZi0w8T6GPFT"
      },
      "source": [
        "### MAE"
      ]
    },
    {
      "cell_type": "code",
      "metadata": {
        "colab": {
          "base_uri": "https://localhost:8080/"
        },
        "id": "XnGpEaO_KG_0",
        "outputId": "280d8a6c-78f4-4d3a-919d-9d6c5588e056"
      },
      "source": [
        "mean_absolute_error(y_test, predictions)"
      ],
      "execution_count": 95,
      "outputs": [
        {
          "output_type": "execute_result",
          "data": {
            "text/plain": [
              "93900.99369325586"
            ]
          },
          "metadata": {
            "tags": []
          },
          "execution_count": 95
        }
      ]
    },
    {
      "cell_type": "code",
      "metadata": {
        "colab": {
          "base_uri": "https://localhost:8080/"
        },
        "id": "gyaD4ew9KMsO",
        "outputId": "2b311d40-4906-4e92-e9e1-18a9b313a12f"
      },
      "source": [
        "df_99['price'].describe()"
      ],
      "execution_count": 96,
      "outputs": [
        {
          "output_type": "execute_result",
          "data": {
            "text/plain": [
              "count    2.138100e+04\n",
              "mean     5.183675e+05\n",
              "std      2.849428e+05\n",
              "min      7.800000e+04\n",
              "25%      3.200000e+05\n",
              "50%      4.500000e+05\n",
              "75%      6.350000e+05\n",
              "max      1.970000e+06\n",
              "Name: price, dtype: float64"
            ]
          },
          "metadata": {
            "tags": []
          },
          "execution_count": 96
        }
      ]
    },
    {
      "cell_type": "markdown",
      "metadata": {
        "id": "wplCLnlOGQEv"
      },
      "source": [
        "### Explained Variance Score"
      ]
    },
    {
      "cell_type": "code",
      "metadata": {
        "colab": {
          "base_uri": "https://localhost:8080/"
        },
        "id": "AsHP_LADKSmq",
        "outputId": "6249354c-5cef-4ca8-890e-1a075e2676ab"
      },
      "source": [
        "help(explained_variance_score)"
      ],
      "execution_count": 97,
      "outputs": [
        {
          "output_type": "stream",
          "text": [
            "Help on function explained_variance_score in module sklearn.metrics._regression:\n",
            "\n",
            "explained_variance_score(y_true, y_pred, sample_weight=None, multioutput='uniform_average')\n",
            "    Explained variance regression score function\n",
            "    \n",
            "    Best possible score is 1.0, lower values are worse.\n",
            "    \n",
            "    Read more in the :ref:`User Guide <explained_variance_score>`.\n",
            "    \n",
            "    Parameters\n",
            "    ----------\n",
            "    y_true : array-like of shape (n_samples,) or (n_samples, n_outputs)\n",
            "        Ground truth (correct) target values.\n",
            "    \n",
            "    y_pred : array-like of shape (n_samples,) or (n_samples, n_outputs)\n",
            "        Estimated target values.\n",
            "    \n",
            "    sample_weight : array-like of shape (n_samples,), optional\n",
            "        Sample weights.\n",
            "    \n",
            "    multioutput : string in ['raw_values', 'uniform_average',                 'variance_weighted'] or array-like of shape (n_outputs)\n",
            "        Defines aggregating of multiple output scores.\n",
            "        Array-like value defines weights used to average scores.\n",
            "    \n",
            "        'raw_values' :\n",
            "            Returns a full set of scores in case of multioutput input.\n",
            "    \n",
            "        'uniform_average' :\n",
            "            Scores of all outputs are averaged with uniform weight.\n",
            "    \n",
            "        'variance_weighted' :\n",
            "            Scores of all outputs are averaged, weighted by the variances\n",
            "            of each individual output.\n",
            "    \n",
            "    Returns\n",
            "    -------\n",
            "    score : float or ndarray of floats\n",
            "        The explained variance or ndarray if 'multioutput' is 'raw_values'.\n",
            "    \n",
            "    Notes\n",
            "    -----\n",
            "    This is not a symmetric function.\n",
            "    \n",
            "    Examples\n",
            "    --------\n",
            "    >>> from sklearn.metrics import explained_variance_score\n",
            "    >>> y_true = [3, -0.5, 2, 7]\n",
            "    >>> y_pred = [2.5, 0.0, 2, 8]\n",
            "    >>> explained_variance_score(y_true, y_pred)\n",
            "    0.957...\n",
            "    >>> y_true = [[0.5, 1], [-1, 1], [7, -6]]\n",
            "    >>> y_pred = [[0, 2], [-1, 2], [8, -5]]\n",
            "    >>> explained_variance_score(y_true, y_pred, multioutput='uniform_average')\n",
            "    0.983...\n",
            "\n"
          ],
          "name": "stdout"
        }
      ]
    },
    {
      "cell_type": "code",
      "metadata": {
        "colab": {
          "base_uri": "https://localhost:8080/"
        },
        "id": "LWhsPD7IKWNh",
        "outputId": "2ff0e03f-0423-4539-ba24-ec7a29be23a0"
      },
      "source": [
        "explained_variance_score(y_test, predictions)"
      ],
      "execution_count": 98,
      "outputs": [
        {
          "output_type": "execute_result",
          "data": {
            "text/plain": [
              "0.7648303670211238"
            ]
          },
          "metadata": {
            "tags": []
          },
          "execution_count": 98
        }
      ]
    },
    {
      "cell_type": "markdown",
      "metadata": {
        "id": "dF28U4sAGRyK"
      },
      "source": [
        "## Visualization"
      ]
    },
    {
      "cell_type": "code",
      "metadata": {
        "colab": {
          "base_uri": "https://localhost:8080/",
          "height": 415
        },
        "id": "UBLq7ZwpKY-O",
        "outputId": "42a7e011-eb95-4b48-932b-99290bc3caa9"
      },
      "source": [
        "plt.figure(figsize=(12, 6))\r\n",
        "plt.scatter(y_test, predictions)\r\n",
        "plt.plot(y_test, y_test, 'r')"
      ],
      "execution_count": 99,
      "outputs": [
        {
          "output_type": "execute_result",
          "data": {
            "text/plain": [
              "[<matplotlib.lines.Line2D at 0x7f006ac00208>]"
            ]
          },
          "metadata": {
            "tags": []
          },
          "execution_count": 99
        },
        {
          "output_type": "display_data",
          "data": {
            "image/png": "[encoded data removed]",
            "text/plain": [
              "<Figure size 864x432 with 1 Axes>"
            ]
          },
          "metadata": {
            "tags": []
          }
        }
      ]
    },
    {
      "cell_type": "markdown",
      "metadata": {
        "id": "0MyDUz0EKx2m"
      },
      "source": [
        "---"
      ]
    }
  ]
}